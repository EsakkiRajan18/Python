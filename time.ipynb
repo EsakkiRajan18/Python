{
 "cells": [
  {
   "cell_type": "code",
   "execution_count": 8,
   "id": "1583a1b4-643d-4618-a6c8-de8f6d31abd6",
   "metadata": {},
   "outputs": [
    {
     "name": "stdin",
     "output_type": "stream",
     "text": [
      " 4\n",
      " 4.5\n"
     ]
    },
    {
     "name": "stdout",
     "output_type": "stream",
     "text": [
      "no of items is more\n",
      "7.5\n"
     ]
    }
   ],
   "source": [
    "items=int(input())\n",
    "time=float(input())\n",
    "if items == 1:\n",
    "        rtime = time\n",
    "elif items == 2:\n",
    "        rtime=time*1.5\n",
    "elif items ==3:\n",
    "        rtime=time*2\n",
    "else:\n",
    "      print(\"no of items is more\")\n",
    "\n",
    "print(rtime)"
   ]
  },
  {
   "cell_type": "code",
   "execution_count": null,
   "id": "8e118b90-1a38-47a6-a4bf-230db9f92099",
   "metadata": {},
   "outputs": [],
   "source": []
  }
 ],
 "metadata": {
  "kernelspec": {
   "display_name": "Python 3 (ipykernel)",
   "language": "python",
   "name": "python3"
  },
  "language_info": {
   "codemirror_mode": {
    "name": "ipython",
    "version": 3
   },
   "file_extension": ".py",
   "mimetype": "text/x-python",
   "name": "python",
   "nbconvert_exporter": "python",
   "pygments_lexer": "ipython3",
   "version": "3.12.4"
  }
 },
 "nbformat": 4,
 "nbformat_minor": 5
}
