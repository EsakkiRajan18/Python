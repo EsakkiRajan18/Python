{
 "cells": [
  {
   "cell_type": "code",
   "execution_count": 1,
   "id": "195af659-6ae0-477a-9fb4-7f0fe1bf2339",
   "metadata": {},
   "outputs": [
    {
     "name": "stdout",
     "output_type": "stream",
     "text": [
      "Welcome to oops concept\n"
     ]
    }
   ],
   "source": [
    "class Python:\n",
    "    def fun(self):\n",
    "        print(\"Welcome to oops concept\")\n",
    "pyt = Python()\n",
    "pyt.fun()"
   ]
  },
  {
   "cell_type": "code",
   "execution_count": 13,
   "id": "a16158a1-786a-4419-bc32-9e6c15db258b",
   "metadata": {},
   "outputs": [
    {
     "name": "stdout",
     "output_type": "stream",
     "text": [
      "Name: Audi Id: 200000\n"
     ]
    }
   ],
   "source": [
    "class Car:\n",
    "    \n",
    "    car=0\n",
    "    def __init__(self,name,id):\n",
    "        self.name=name\n",
    "        self.id=id\n",
    "        Car.car+=1\n",
    "\n",
    "    def printCardata(self):\n",
    "        print(\"Name:\",self.name,\"Id:\",self.id)\n",
    "c=Car(\"Audi\",200000)\n",
    "c.printCardata()"
   ]
  },
  {
   "cell_type": "code",
   "execution_count": 15,
   "id": "8e797273-7c18-459c-95a5-506a167891e1",
   "metadata": {},
   "outputs": [
    {
     "name": "stdout",
     "output_type": "stream",
     "text": [
      "Ravi 21 200000\n"
     ]
    }
   ],
   "source": [
    "class Employee:\n",
    "    def __init__(self,name,age,salary):#__init_ ----> get(),set()\n",
    "        self.name=name\n",
    "        self.age=age\n",
    "        self.salary=salary\n",
    "    def printdata(self):\n",
    "        print(self.name,self.age,self.salary)\n",
    "d=Employee(\"Ravi\",21,200000)\n",
    "d.printdata()"
   ]
  },
  {
   "cell_type": "code",
   "execution_count": 17,
   "id": "afd3ecc8-4bf7-4c6e-9e23-03d611412a95",
   "metadata": {},
   "outputs": [
    {
     "name": "stdout",
     "output_type": "stream",
     "text": [
      "Puraaa Kuyiluu Kokkuuuu\n"
     ]
    }
   ],
   "source": [
    "class Birds:\n",
    "    def __init__(self,b1,b2,b3):\n",
    "        self.b1=b1\n",
    "        self.b2=b2\n",
    "        self.b3=b3\n",
    "    def printdata(self):\n",
    "        print(self.b1,self.b2,self.b3)\n",
    "b=Birds(\"Puraaa\",\"Kuyiluu\",\"Kokkuuuu\")\n",
    "b.printdata()"
   ]
  },
  {
   "cell_type": "code",
   "execution_count": 23,
   "id": "43e715d1-d353-4a8f-a638-d135e7b6d1f0",
   "metadata": {},
   "outputs": [
    {
     "name": "stdin",
     "output_type": "stream",
     "text": [
      "Enter a number 0\n"
     ]
    },
    {
     "name": "stdout",
     "output_type": "stream",
     "text": [
      "Negative\n"
     ]
    }
   ],
   "source": [
    "class Number:\n",
    "    def __init__(self,n):\n",
    "        self.number=n\n",
    "    def check_num(self):\n",
    "        if self.number>0:\n",
    "            print(\"Positive\")\n",
    "        else:\n",
    "            print(\"Negative\")\n",
    "\n",
    "\n",
    "n1=Number(int(input(\"Enter a number\")))\n",
    "n1.check_num()"
   ]
  },
  {
   "cell_type": "code",
   "execution_count": 19,
   "id": "662077e2-24dd-45fd-9806-c1cf6402e40f",
   "metadata": {},
   "outputs": [
    {
     "name": "stdout",
     "output_type": "stream",
     "text": [
      "Positive values: 1 2\n",
      "Negative values: -1 -2\n"
     ]
    }
   ],
   "source": [
    "class Numbers:\n",
    "    def __init__(self, pos1, pos2, neg1, neg2):\n",
    "        self.pos1 = pos1\n",
    "        self.pos2 = pos2\n",
    "        self.neg1 = neg1\n",
    "        self.neg2 = neg2\n",
    "\n",
    "    def printdata(self):\n",
    "        print(\"Positive values:\", self.pos1, self.pos2)\n",
    "        print(\"Negative values:\", self.neg1, self.neg2)\n",
    "\n",
    "b = Numbers(1, 2, -1, -2)\n",
    "b.printdata()"
   ]
  },
  {
   "cell_type": "code",
   "execution_count": 25,
   "id": "254cae11-cae3-4f3e-a1b6-fcbf243fcbde",
   "metadata": {},
   "outputs": [
    {
     "name": "stdout",
     "output_type": "stream",
     "text": [
      "Hello\n",
      "10\n"
     ]
    }
   ],
   "source": [
    "class Test:\n",
    "    x=10\n",
    "    def __init__(self):\n",
    "        print(\"Hello\")\n",
    "t=Test()\n",
    "print(Test.x)"
   ]
  },
  {
   "cell_type": "code",
   "execution_count": 31,
   "id": "8f47aecd-eab3-43cb-8ec0-b65323625218",
   "metadata": {},
   "outputs": [
    {
     "name": "stdout",
     "output_type": "stream",
     "text": [
      "Total Cars:  3\n",
      "Name: Audi Id: 2000000\n",
      "Name: BENZ Id: 300000\n",
      "Name: BMW Id: 10000000\n"
     ]
    }
   ],
   "source": [
    "class Car:\n",
    "    \"Common_car\"\n",
    "    car=0\n",
    "    def __init__(self,name,id):\n",
    "        self.name=name\n",
    "        self.id=id\n",
    "        Car.car+=1\n",
    "\n",
    "    def printCardata(self):\n",
    "        print(\"Name:\",self.name,\"Id:\",self.id)\n",
    "c=Car(\"Audi\",2000000)\n",
    "c1=Car(\"BENZ\",300000)\n",
    "c2=Car(\"BMW\",10000000)\n",
    "print(\"Total Cars: \",Car.car)\n",
    "c.printCardata()\n",
    "c1.printCardata()\n",
    "c2.printCardata()"
   ]
  },
  {
   "cell_type": "code",
   "execution_count": 33,
   "id": "8ad29ae9-7273-4f65-adb5-7bc4767a897d",
   "metadata": {},
   "outputs": [
    {
     "name": "stdout",
     "output_type": "stream",
     "text": [
      "car\n"
     ]
    }
   ],
   "source": [
    "class test:\n",
    "    def __init__(self):\n",
    "        self.variable = 'car'\n",
    "        self.Change(self.variable)\n",
    "    def Change(self,var):\n",
    "        var = 'Bike'\n",
    "\n",
    "obj=test()\n",
    "print(obj.variable)"
   ]
  },
  {
   "cell_type": "code",
   "execution_count": 2,
   "id": "7d18e03d-8d72-4e6e-83ab-405a728664fe",
   "metadata": {},
   "outputs": [
    {
     "name": "stdout",
     "output_type": "stream",
     "text": [
      "BARK\n",
      "MEOW\n"
     ]
    }
   ],
   "source": [
    "class Animal:\n",
    "    def sound(self):\n",
    "        print(\"Some generic sound\")\n",
    "\n",
    "class Dog(Animal):\n",
    "    def sound(self):\n",
    "        print(\"BARK\")\n",
    "\n",
    "class Cat(Animal):\n",
    "    def sound(self):\n",
    "        print(\"MEOW\")\n",
    "\n",
    "dog = Dog()\n",
    "cat = Cat()\n",
    "#overriding\n",
    "dog.sound()\n",
    "cat.sound()"
   ]
  },
  {
   "cell_type": "code",
   "execution_count": 2,
   "id": "f4b347d6-0d47-417d-9d63-2d639d05efbc",
   "metadata": {},
   "outputs": [
    {
     "name": "stdin",
     "output_type": "stream",
     "text": [
      "Enter the first number 18\n",
      "Enter the second number 10\n"
     ]
    },
    {
     "name": "stdout",
     "output_type": "stream",
     "text": [
      "The answer is: 28\n",
      "The answer is: 8\n",
      "The answer is: 180\n",
      "The answer is: 1.8\n"
     ]
    }
   ],
   "source": [
    "x=int(input(\"Enter the first number\"))\n",
    "y=int(input(\"Enter the second number\"))\n",
    "class calculate:\n",
    "    def sum(self,x,y):\n",
    "      self.x=x\n",
    "      self.y=y\n",
    "      print(\"The answer is:\",self.x+self.y)\n",
    "\n",
    "    def sub(self,x,y):\n",
    "      self.x=x\n",
    "      self.y=y\n",
    "      print(\"The answer is:\",self.x-self.y)\n",
    "\n",
    "class AdvanceCalculate(calculate):\n",
    "    def mul(self,x,y):\n",
    "      self.x=x\n",
    "      self.y=y\n",
    "      print(\"The answer is:\",self.x*self.y)\n",
    "\n",
    "    def div(self,x,y):\n",
    "      self.x=x\n",
    "      self.y=y\n",
    "      print(\"The answer is:\",self.x/self.y)\n",
    "c=AdvanceCalculate()\n",
    "c.sum(x,y)\n",
    "c.sub(x,y)\n",
    "c.mul(x,y)\n",
    "c.div(x,y)"
   ]
  },
  {
   "cell_type": "code",
   "execution_count": 5,
   "id": "dd0b85ee-ea60-4434-9237-cdcfb18ee94e",
   "metadata": {},
   "outputs": [
    {
     "name": "stdin",
     "output_type": "stream",
     "text": [
      " 69\n",
      " 96\n"
     ]
    },
    {
     "name": "stdout",
     "output_type": "stream",
     "text": [
      "addition : 165\n",
      "subtract -27\n",
      "Multiplication 6624\n",
      "floor division: 0\n"
     ]
    }
   ],
   "source": [
    "#single inheritance\n",
    "class calc:\n",
    "    def add(self,num1,num2):\n",
    "        self.num1=num1;\n",
    "        self.num2=num2;\n",
    "        return self.num1+self.num2\n",
    "    def sub(self,num1,num2):\n",
    "        return num1-num2;\n",
    "class Advancedcalculator(calc):\n",
    "    def mul(self,num1,num2):\n",
    "        print(\"Multiplication\",num1*num2)\n",
    "    def div(self,num1,num2):\n",
    "        return num1//num2;\n",
    "x=Advancedcalculator()\n",
    "num1=int(input())\n",
    "num2=int(input())\n",
    "print(\"addition : %d\"%(x.add(num1,num2)))\n",
    "print(\"subtract\",x.sub(num1,num2))\n",
    "x.mul(num1,num2)\n",
    "print(\"floor division: %d\"%(x.div(num1,num2)))"
   ]
  },
  {
   "cell_type": "code",
   "execution_count": null,
   "id": "c4c644c4-8855-4af2-88fc-a93d02da13fa",
   "metadata": {},
   "outputs": [],
   "source": []
  }
 ],
 "metadata": {
  "kernelspec": {
   "display_name": "Python 3 (ipykernel)",
   "language": "python",
   "name": "python3"
  },
  "language_info": {
   "codemirror_mode": {
    "name": "ipython",
    "version": 3
   },
   "file_extension": ".py",
   "mimetype": "text/x-python",
   "name": "python",
   "nbconvert_exporter": "python",
   "pygments_lexer": "ipython3",
   "version": "3.12.4"
  }
 },
 "nbformat": 4,
 "nbformat_minor": 5
}
