{
 "cells": [
  {
   "cell_type": "code",
   "execution_count": 11,
   "id": "97a16411-6e06-4962-9f2f-3e03fe077148",
   "metadata": {},
   "outputs": [
    {
     "name": "stdin",
     "output_type": "stream",
     "text": [
      " 69\n"
     ]
    },
    {
     "name": "stdout",
     "output_type": "stream",
     "text": [
      "First digit :  6\n",
      "Second digit :  9\n",
      "Result 69\n",
      "Special Number\n"
     ]
    }
   ],
   "source": [
    "x=int(input())\n",
    "f=x//10\n",
    "s=x%10\n",
    "print(\"First digit : \",f)\n",
    "print(\"Second digit : \",s)\n",
    "result=(f+s)+(f*s)\n",
    "print(\"Result\",result)\n",
    "if x == result:\n",
    "    print(\"Special Number\")\n",
    "else:\n",
    "    print(\"Not a Special number\")"
   ]
  },
  {
   "cell_type": "code",
   "execution_count": null,
   "id": "2fe11379-6235-41fb-8345-a06e25320860",
   "metadata": {},
   "outputs": [],
   "source": []
  }
 ],
 "metadata": {
  "kernelspec": {
   "display_name": "Python 3 (ipykernel)",
   "language": "python",
   "name": "python3"
  },
  "language_info": {
   "codemirror_mode": {
    "name": "ipython",
    "version": 3
   },
   "file_extension": ".py",
   "mimetype": "text/x-python",
   "name": "python",
   "nbconvert_exporter": "python",
   "pygments_lexer": "ipython3",
   "version": "3.12.4"
  }
 },
 "nbformat": 4,
 "nbformat_minor": 5
}
