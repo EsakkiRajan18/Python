{
 "cells": [
  {
   "cell_type": "code",
   "execution_count": 2,
   "id": "9b9fe109-83a7-4786-b5c6-1720b6aa4ec0",
   "metadata": {},
   "outputs": [
    {
     "name": "stdout",
     "output_type": "stream",
     "text": [
      "b is greater\n"
     ]
    }
   ],
   "source": [
    "def maxi(a,b,c):\n",
    "    if a>b and a>c:\n",
    "        print(\"a is greater\")\n",
    "    elif b>c:\n",
    "        print(\"b is greater\")\n",
    "    else:\n",
    "        print(\"c is greater\")\n",
    "maxi(1,6,2)"
   ]
  },
  {
   "cell_type": "code",
   "execution_count": null,
   "id": "ade451d4-9094-437a-a265-d3589d9cd8f7",
   "metadata": {},
   "outputs": [],
   "source": []
  }
 ],
 "metadata": {
  "kernelspec": {
   "display_name": "Python 3 (ipykernel)",
   "language": "python",
   "name": "python3"
  },
  "language_info": {
   "codemirror_mode": {
    "name": "ipython",
    "version": 3
   },
   "file_extension": ".py",
   "mimetype": "text/x-python",
   "name": "python",
   "nbconvert_exporter": "python",
   "pygments_lexer": "ipython3",
   "version": "3.12.4"
  }
 },
 "nbformat": 4,
 "nbformat_minor": 5
}
