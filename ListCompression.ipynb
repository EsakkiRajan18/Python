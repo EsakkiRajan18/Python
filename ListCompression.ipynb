{
 "cells": [
  {
   "cell_type": "code",
   "execution_count": 2,
   "id": "6bfd8be9-7762-4206-af67-4f5c398d9fb6",
   "metadata": {},
   "outputs": [
    {
     "name": "stdin",
     "output_type": "stream",
     "text": [
      "Enter numbers separated by spaces:  56 78 66 41\n"
     ]
    },
    {
     "name": "stdout",
     "output_type": "stream",
     "text": [
      "The maximum number is: 78\n"
     ]
    }
   ],
   "source": [
    "numbers = list(map(int, input(\"Enter numbers separated by spaces: \").split()))\n",
    "max_number = max(numbers)\n",
    "print(\"The maximum number is:\", max_number)"
   ]
  },
  {
   "cell_type": "code",
   "execution_count": 4,
   "id": "09b93660-0ff9-4e9c-b63b-4010e8be74f5",
   "metadata": {},
   "outputs": [
    {
     "name": "stdin",
     "output_type": "stream",
     "text": [
      "Enter numbers separated by spaces:  10 20 30\n"
     ]
    },
    {
     "name": "stdout",
     "output_type": "stream",
     "text": [
      "The sum of all numbers is: 60\n"
     ]
    }
   ],
   "source": [
    "num = list(map(int, input(\"Enter numbers separated by spaces: \").split()))\n",
    "total=sum(num)\n",
    "print(\"The sum of all numbers is:\",total)"
   ]
  },
  {
   "cell_type": "code",
   "execution_count": 7,
   "id": "8ddedb7d-9245-41e6-8c6a-5f25d6ad39b1",
   "metadata": {},
   "outputs": [],
   "source": [
    "fruits = [\"apple\",\"banana\",\"cherry\",\"kiwi\",\"mango\"]\n",
    "newlist = [x for x in fruits if \"a\" in x]\n",
    "for x in fruits:\n",
    "    if \"a\" in x:\n",
    "        newlist.append(x)"
   ]
  },
  {
   "cell_type": "code",
   "execution_count": 12,
   "id": "fd7535bd-4c35-49e0-bb49-3235514c06f9",
   "metadata": {},
   "outputs": [
    {
     "name": "stdin",
     "output_type": "stream",
     "text": [
      " 5 20\n"
     ]
    },
    {
     "name": "stdout",
     "output_type": "stream",
     "text": [
      "First Number is: 5\n",
      "Second Number is: 20\n"
     ]
    }
   ],
   "source": [
    "\n",
    "x,y = [int(x) for x in input().split()]\n",
    "print(\"First Number is:\",x)\n",
    "print(\"Second Number is:\",y)\n"
   ]
  },
  {
   "cell_type": "code",
   "execution_count": null,
   "id": "502380c2-a6d8-44e9-bd7f-2d70c6ab810d",
   "metadata": {},
   "outputs": [],
   "source": [
    "x = [int(x) for x in input().split"
   ]
  }
 ],
 "metadata": {
  "kernelspec": {
   "display_name": "Python 3 (ipykernel)",
   "language": "python",
   "name": "python3"
  },
  "language_info": {
   "codemirror_mode": {
    "name": "ipython",
    "version": 3
   },
   "file_extension": ".py",
   "mimetype": "text/x-python",
   "name": "python",
   "nbconvert_exporter": "python",
   "pygments_lexer": "ipython3",
   "version": "3.12.4"
  }
 },
 "nbformat": 4,
 "nbformat_minor": 5
}
