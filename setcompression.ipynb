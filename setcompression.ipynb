{
 "cells": [
  {
   "cell_type": "code",
   "execution_count": 1,
   "id": "e70f1f7c-8cd4-4926-9dc9-5cdc558af5d1",
   "metadata": {},
   "outputs": [
    {
     "name": "stdout",
     "output_type": "stream",
     "text": [
      "{0, 1, 4, 9, 16}\n"
     ]
    }
   ],
   "source": [
    "sq={x**2 for x in range(5)}\n",
    "print(sq)"
   ]
  },
  {
   "cell_type": "code",
   "execution_count": 4,
   "id": "1cb69b00-5023-4466-bd48-74d6a52c022b",
   "metadata": {},
   "outputs": [
    {
     "name": "stdout",
     "output_type": "stream",
     "text": [
      "{1, 4, 9, 16, 25}\n"
     ]
    }
   ],
   "source": [
    "num=[1,2,3,4,5]\n",
    "sq_num={x**2 for x in num}\n",
    "print(sq_num)"
   ]
  },
  {
   "cell_type": "code",
   "execution_count": 5,
   "id": "42ef4ad5-090e-46ee-995c-71b9547fc838",
   "metadata": {},
   "outputs": [
    {
     "name": "stdout",
     "output_type": "stream",
     "text": [
      "{2, 4}\n"
     ]
    }
   ],
   "source": [
    "numbers=[1,2,3,4,5]\n",
    "even_numbers={x for x in numbers if x%2==0}\n",
    "print(even_numbers)"
   ]
  },
  {
   "cell_type": "code",
   "execution_count": 6,
   "id": "8f4201dd-923f-4403-9d35-33c92a9384ad",
   "metadata": {},
   "outputs": [],
   "source": [
    "# FRUIT WITH NO VOWELS"
   ]
  },
  {
   "cell_type": "code",
   "execution_count": 11,
   "id": "2c73303e-c8d8-4f03-bec6-cff6c300502d",
   "metadata": {},
   "outputs": [
    {
     "name": "stdout",
     "output_type": "stream",
     "text": [
      "{'apple', 'banana', 'cherry'}\n"
     ]
    }
   ],
   "source": [
    "words=['apple','banana','cherry','lyn']\n",
    "vowels={'a','e','i','o','u'}\n",
    "vowel_words={word for word in words if any(letter in vowels for letter in word)}\n",
    "print(vowel_words)"
   ]
  },
  {
   "cell_type": "code",
   "execution_count": 12,
   "id": "b895007b-43ff-4e2f-a9d6-d827e9263e67",
   "metadata": {},
   "outputs": [],
   "source": [
    "#eliminating duplicates"
   ]
  },
  {
   "cell_type": "code",
   "execution_count": 13,
   "id": "8ac94f7d-a8c3-41c8-b7e6-d97190481c34",
   "metadata": {},
   "outputs": [
    {
     "name": "stdout",
     "output_type": "stream",
     "text": [
      "{1, 4, 36, 9, 16, 25}\n"
     ]
    }
   ],
   "source": [
    "duplicates=[1,2,3,3,4,5,1,6]\n",
    "unique_squares={x**2 for x in duplicates}\n",
    "print(unique_squares)"
   ]
  },
  {
   "cell_type": "code",
   "execution_count": 14,
   "id": "a0c90ead-4164-4474-b9f4-8c110f80cbd7",
   "metadata": {},
   "outputs": [],
   "source": [
    "#set comparision with string manipulation"
   ]
  },
  {
   "cell_type": "code",
   "execution_count": 15,
   "id": "c9f42e19-f992-49bf-983b-b5f270a88371",
   "metadata": {},
   "outputs": [
    {
     "name": "stdout",
     "output_type": "stream",
     "text": [
      "{'R', 'D', 'H', 'L', 'E', 'W', 'O'}\n"
     ]
    }
   ],
   "source": [
    "text=\"hello world\"\n",
    "uppercase_letters={char.upper() for char in text if char.isalpha()}\n",
    "print(uppercase_letters)"
   ]
  },
  {
   "cell_type": "code",
   "execution_count": null,
   "id": "fdb2a18a-7da9-4410-ae2e-b6c760c7e37a",
   "metadata": {},
   "outputs": [],
   "source": []
  }
 ],
 "metadata": {
  "kernelspec": {
   "display_name": "Python 3 (ipykernel)",
   "language": "python",
   "name": "python3"
  },
  "language_info": {
   "codemirror_mode": {
    "name": "ipython",
    "version": 3
   },
   "file_extension": ".py",
   "mimetype": "text/x-python",
   "name": "python",
   "nbconvert_exporter": "python",
   "pygments_lexer": "ipython3",
   "version": "3.12.4"
  }
 },
 "nbformat": 4,
 "nbformat_minor": 5
}
