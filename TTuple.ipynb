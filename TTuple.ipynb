{
 "cells": [
  {
   "cell_type": "code",
   "execution_count": 1,
   "id": "3df10b81-ad41-4e13-82f6-1b20668d9d09",
   "metadata": {},
   "outputs": [
    {
     "name": "stdout",
     "output_type": "stream",
     "text": [
      "5\n"
     ]
    }
   ],
   "source": [
    "tuple=('developer',5,8.9,'r',8)\n",
    "print(len(tuple))"
   ]
  },
  {
   "cell_type": "code",
   "execution_count": 3,
   "id": "4055a6b8-9bc9-4c36-9a38-f485f2b45249",
   "metadata": {},
   "outputs": [
    {
     "name": "stdout",
     "output_type": "stream",
     "text": [
      "89\n"
     ]
    }
   ],
   "source": [
    "tuple = (9,5,89,4,8)\n",
    "print(max(tuple))"
   ]
  },
  {
   "cell_type": "code",
   "execution_count": 4,
   "id": "284939d6-131a-45ef-bff3-5201c72c767b",
   "metadata": {},
   "outputs": [
    {
     "name": "stdout",
     "output_type": "stream",
     "text": [
      "4\n"
     ]
    }
   ],
   "source": [
    "tuple = (9,5,89,4,8)\n",
    "print(min(tuple))"
   ]
  },
  {
   "cell_type": "code",
   "execution_count": 5,
   "id": "76205c52-4099-40f8-a6ac-d625da507326",
   "metadata": {},
   "outputs": [
    {
     "name": "stdout",
     "output_type": "stream",
     "text": [
      "115\n"
     ]
    }
   ],
   "source": [
    "tuple = (9,5,89,4,8)\n",
    "print(sum(tuple))"
   ]
  },
  {
   "cell_type": "code",
   "execution_count": 8,
   "id": "7bf8abaa-da88-48ff-a1ea-911c64fdc196",
   "metadata": {},
   "outputs": [
    {
     "name": "stdout",
     "output_type": "stream",
     "text": [
      "[4, 5, 8, 9, 89]\n"
     ]
    }
   ],
   "source": [
    "tuple = (9,5,89,4,8)\n",
    "print(sorted(tuple))"
   ]
  },
  {
   "cell_type": "code",
   "execution_count": 9,
   "id": "343df9cc-60b8-4e0a-901e-d90fcba87153",
   "metadata": {},
   "outputs": [
    {
     "name": "stdout",
     "output_type": "stream",
     "text": [
      "True\n"
     ]
    }
   ],
   "source": [
    "tuple = (4,1)\n",
    "print(all(tuple))"
   ]
  },
  {
   "cell_type": "code",
   "execution_count": 15,
   "id": "5125c55c-ede7-434a-82ff-48c39fc24729",
   "metadata": {},
   "outputs": [],
   "source": [
    "#creating tuple"
   ]
  },
  {
   "cell_type": "code",
   "execution_count": 16,
   "id": "fb1f69f3-f225-448f-bb61-638bfcd785fa",
   "metadata": {},
   "outputs": [
    {
     "name": "stdout",
     "output_type": "stream",
     "text": [
      "('apple', 'byte', 'computer')\n"
     ]
    }
   ],
   "source": [
    "value_tuple = (26,45,'hello')\n",
    "value=(\"a\")\n",
    "type(value)\n",
    "print(tuple)"
   ]
  },
  {
   "cell_type": "code",
   "execution_count": 19,
   "id": "057123b4-8934-441f-9469-20d8dbf5e664",
   "metadata": {},
   "outputs": [
    {
     "ename": "TypeError",
     "evalue": "'tuple' object does not support item assignment",
     "output_type": "error",
     "traceback": [
      "\u001b[1;31m---------------------------------------------------------------------------\u001b[0m",
      "\u001b[1;31mTypeError\u001b[0m                                 Traceback (most recent call last)",
      "Cell \u001b[1;32mIn[19], line 3\u001b[0m\n\u001b[0;32m      1\u001b[0m vt \u001b[38;5;241m=\u001b[39m (\u001b[38;5;241m26\u001b[39m,\u001b[38;5;241m56\u001b[39m,\u001b[38;5;124m'\u001b[39m\u001b[38;5;124mhello\u001b[39m\u001b[38;5;124m'\u001b[39m,\u001b[38;5;241m7.5\u001b[39m)\n\u001b[0;32m      2\u001b[0m vt\n\u001b[1;32m----> 3\u001b[0m vt[\u001b[38;5;241m2\u001b[39m]\u001b[38;5;241m=\u001b[39m\u001b[38;5;124m\"\u001b[39m\u001b[38;5;124mpython\u001b[39m\u001b[38;5;124m\"\u001b[39m\n",
      "\u001b[1;31mTypeError\u001b[0m: 'tuple' object does not support item assignment"
     ]
    }
   ],
   "source": [
    "vt = (26,56,'hello',7.5)\n",
    "vt\n",
    "vt[2]=\"python\""
   ]
  },
  {
   "cell_type": "code",
   "execution_count": 20,
   "id": "4e66d4cf-55f4-4210-b1dd-e2274cc8bff8",
   "metadata": {},
   "outputs": [],
   "source": [
    "#repetetion of tuple"
   ]
  },
  {
   "cell_type": "code",
   "execution_count": null,
   "id": "f943fb02-5312-4cce-b3d5-bac358c0af5d",
   "metadata": {},
   "outputs": [],
   "source": [
    "value_t_tuple = (26,45,"
   ]
  },
  {
   "cell_type": "code",
   "execution_count": null,
   "id": "2ed55913-bf2e-4621-9b30-b5bbf3823428",
   "metadata": {},
   "outputs": [],
   "source": []
  },
  {
   "cell_type": "code",
   "execution_count": 24,
   "id": "561d8732-ab32-4e64-822c-2a5538676294",
   "metadata": {},
   "outputs": [
    {
     "name": "stdin",
     "output_type": "stream",
     "text": [
      " 4\n",
      " 12\n",
      " 10\n",
      " 26\n",
      " 6\n"
     ]
    },
    {
     "ename": "TypeError",
     "evalue": "'tuple' object is not callable",
     "output_type": "error",
     "traceback": [
      "\u001b[1;31m---------------------------------------------------------------------------\u001b[0m",
      "\u001b[1;31mTypeError\u001b[0m                                 Traceback (most recent call last)",
      "Cell \u001b[1;32mIn[24], line 6\u001b[0m\n\u001b[0;32m      4\u001b[0m \u001b[38;5;28;01mfor\u001b[39;00m i \u001b[38;5;129;01min\u001b[39;00m \u001b[38;5;28mrange\u001b[39m(n):\n\u001b[0;32m      5\u001b[0m     list_1\u001b[38;5;241m.\u001b[39mappend(\u001b[38;5;28mint\u001b[39m(\u001b[38;5;28minput\u001b[39m()))\n\u001b[1;32m----> 6\u001b[0m value\u001b[38;5;241m=\u001b[39m\u001b[38;5;28mtuple\u001b[39m(list_1)\n",
      "\u001b[1;31mTypeError\u001b[0m: 'tuple' object is not callable"
     ]
    }
   ],
   "source": [
    "value=()\n",
    "n=int(input())\n",
    "list_1=[]\n",
    "for i in range(n):\n",
    "    list_1.append(int(input()))\n",
    "value=tuple(list_1)"
   ]
  },
  {
   "cell_type": "code",
   "execution_count": 29,
   "id": "004bd196-2fa6-4db9-8ace-ef602602e2ee",
   "metadata": {},
   "outputs": [
    {
     "ename": "TypeError",
     "evalue": "'tuple' object is not callable",
     "output_type": "error",
     "traceback": [
      "\u001b[1;31m---------------------------------------------------------------------------\u001b[0m",
      "\u001b[1;31mTypeError\u001b[0m                                 Traceback (most recent call last)",
      "Cell \u001b[1;32mIn[29], line 5\u001b[0m\n\u001b[0;32m      3\u001b[0m b\u001b[38;5;241m.\u001b[39mappend(\u001b[38;5;241m7\u001b[39m)\n\u001b[0;32m      4\u001b[0m \u001b[38;5;66;03m#print(b)\u001b[39;00m\n\u001b[1;32m----> 5\u001b[0m x \u001b[38;5;241m=\u001b[39m \u001b[38;5;28mtuple\u001b[39m(b)\n\u001b[0;32m      6\u001b[0m x\n",
      "\u001b[1;31mTypeError\u001b[0m: 'tuple' object is not callable"
     ]
    }
   ],
   "source": [
    "a = (10,20,30)\n",
    "b = list(a)\n",
    "b.append(7)\n",
    "#print(b)\n",
    "x = tuple(b)\n",
    "x"
   ]
  },
  {
   "cell_type": "code",
   "execution_count": null,
   "id": "428df2af-f3a8-44a4-9bac-9cccb9858e5b",
   "metadata": {},
   "outputs": [],
   "source": [
    "v"
   ]
  }
 ],
 "metadata": {
  "kernelspec": {
   "display_name": "Python 3 (ipykernel)",
   "language": "python",
   "name": "python3"
  },
  "language_info": {
   "codemirror_mode": {
    "name": "ipython",
    "version": 3
   },
   "file_extension": ".py",
   "mimetype": "text/x-python",
   "name": "python",
   "nbconvert_exporter": "python",
   "pygments_lexer": "ipython3",
   "version": "3.12.4"
  }
 },
 "nbformat": 4,
 "nbformat_minor": 5
}
