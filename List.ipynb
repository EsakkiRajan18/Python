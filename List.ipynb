{
 "cells": [
  {
   "cell_type": "code",
   "execution_count": 1,
   "id": "1eaf332f-ee74-4393-8551-a864f7dad24e",
   "metadata": {},
   "outputs": [
    {
     "name": "stdout",
     "output_type": "stream",
     "text": [
      "[1, 3, 5]\n"
     ]
    }
   ],
   "source": [
    "a=[1,3,5]\n",
    "print(a)\n"
   ]
  },
  {
   "cell_type": "code",
   "execution_count": 2,
   "id": "12b719cb-da38-481e-ad84-675a705b378f",
   "metadata": {},
   "outputs": [
    {
     "name": "stdout",
     "output_type": "stream",
     "text": [
      "[5.5, 6.6, 7.7]\n"
     ]
    }
   ],
   "source": [
    "b=[5.5,6.6,7.7]\n",
    "print(b)"
   ]
  },
  {
   "cell_type": "code",
   "execution_count": 3,
   "id": "483ac78c-26a0-45f7-b16b-ad576ddaa387",
   "metadata": {},
   "outputs": [
    {
     "name": "stdout",
     "output_type": "stream",
     "text": [
      "['R', 'A', 'v', 'I']\n"
     ]
    }
   ],
   "source": [
    "c=['R','A','v','I']\n",
    "print(c)"
   ]
  },
  {
   "cell_type": "code",
   "execution_count": 4,
   "id": "fce6bac6-2083-4b70-9936-e1f2d6eddc34",
   "metadata": {},
   "outputs": [
    {
     "name": "stdout",
     "output_type": "stream",
     "text": [
      "['Apple', 'Pineapple', 'Waatrrrmelon']\n"
     ]
    }
   ],
   "source": [
    "d=[\"Apple\",\"Pineapple\",\"Waatrrrmelon\"]\n",
    "print(d)"
   ]
  },
  {
   "cell_type": "code",
   "execution_count": 5,
   "id": "1a41635a-533d-4942-a872-7aa1c8bd40b3",
   "metadata": {},
   "outputs": [
    {
     "name": "stdout",
     "output_type": "stream",
     "text": [
      "['17', '28.07', 'R', 'ABIRAM']\n"
     ]
    }
   ],
   "source": [
    "e=['17','28.07','R',\"ABIRAM\"]\n",
    "print(e)"
   ]
  },
  {
   "cell_type": "code",
   "execution_count": 10,
   "id": "1cbec0d0-8f5d-49a2-9c9d-36c1145b70dc",
   "metadata": {},
   "outputs": [
    {
     "name": "stdout",
     "output_type": "stream",
     "text": [
      "[['Ravi oru maakaan', [2003]], [18]]\n"
     ]
    }
   ],
   "source": [
    "x=[[\"Ravi oru maakaan\",[2003]],[18]]\n",
    "print(x)"
   ]
  },
  {
   "cell_type": "code",
   "execution_count": 22,
   "id": "95cc3109-38d0-4f73-8043-0146e3cba309",
   "metadata": {},
   "outputs": [
    {
     "name": "stdout",
     "output_type": "stream",
     "text": [
      "[[0, 0, 0, 0, 0]]\n"
     ]
    }
   ],
   "source": [
    "z=[0]*5\n",
    "print([z])"
   ]
  },
  {
   "cell_type": "code",
   "execution_count": 1,
   "id": "c90f28d4-25d7-456d-a0d5-d330abc51e85",
   "metadata": {},
   "outputs": [
    {
     "name": "stdout",
     "output_type": "stream",
     "text": [
      "[1, 2, 3, 4]\n",
      "1\n",
      "[2, 3, 4]\n"
     ]
    }
   ],
   "source": [
    "num=[1,2,3,4]\n",
    "print(num)\n",
    "a,*other=num\n",
    "print(a)\n",
    "print(other)"
   ]
  },
  {
   "cell_type": "code",
   "execution_count": 2,
   "id": "3bccfb4c-66f8-4dfb-b1a2-e1064f9e6986",
   "metadata": {},
   "outputs": [
    {
     "name": "stdout",
     "output_type": "stream",
     "text": [
      "apple\n",
      "mango\n",
      "orange\n",
      "pineapple\n",
      "banana\n"
     ]
    }
   ],
   "source": [
    "m = [\"apple\",\"mango\",\"orange\",\"pineapple\",\"banana\"]\n",
    "for i in m:\n",
    "    print(i)"
   ]
  },
  {
   "cell_type": "code",
   "execution_count": 3,
   "id": "8b4c0cc5-a956-4fd7-9d0d-5830af1f176f",
   "metadata": {},
   "outputs": [
    {
     "name": "stdout",
     "output_type": "stream",
     "text": [
      "['apple', 'mango', 'orange', 'pineapple', 'banana']\n",
      "apple\n",
      "['mango', 'orange', 'pineapple', 'banana']\n"
     ]
    }
   ],
   "source": [
    "m = [\"apple\",\"mango\",\"orange\",\"pineapple\",\"banana\"]\n",
    "print(m)\n",
    "a,*other=m\n",
    "print(a)\n",
    "print(other)"
   ]
  },
  {
   "cell_type": "code",
   "execution_count": 4,
   "id": "22b48ea2-edef-4771-8cbe-9096693e2ac2",
   "metadata": {},
   "outputs": [
    {
     "name": "stdout",
     "output_type": "stream",
     "text": [
      "apple\n",
      "mango\n",
      "pineapple\n",
      "banana\n"
     ]
    }
   ],
   "source": [
    "m = [\"apple\",\"mango\",\"orange\",\"pineapple\",\"banana\"]\n",
    "for i in m:\n",
    "    if i==\"orange\":\n",
    "        continue;\n",
    "    print(i)"
   ]
  },
  {
   "cell_type": "code",
   "execution_count": 5,
   "id": "cce9308c-29bb-4403-a85e-7b689ad724d6",
   "metadata": {},
   "outputs": [
    {
     "name": "stdout",
     "output_type": "stream",
     "text": [
      "10\n",
      "20\n",
      "30\n",
      "40\n",
      "50\n"
     ]
    }
   ],
   "source": [
    "n = [2,4,6,8,10]\n",
    "for i in n:\n",
    "    i=i*5\n",
    "    print(i)"
   ]
  },
  {
   "cell_type": "code",
   "execution_count": 6,
   "id": "b3189d0e-89b8-4d75-8bdf-d242398dcbe1",
   "metadata": {},
   "outputs": [
    {
     "name": "stdout",
     "output_type": "stream",
     "text": [
      "[1, 2, 3, 4]\n",
      "[1, 2, 3, 4, 8]\n"
     ]
    }
   ],
   "source": [
    "o=[1,2,3,4]\n",
    "print(o)\n",
    "o.append(8)\n",
    "print(o)"
   ]
  },
  {
   "cell_type": "code",
   "execution_count": 8,
   "id": "befa87a3-24c1-4459-b46d-2ea12274f510",
   "metadata": {},
   "outputs": [
    {
     "name": "stdout",
     "output_type": "stream",
     "text": [
      "['python', 1, 2, 3, 4]\n"
     ]
    }
   ],
   "source": [
    "num=[1,2,3,4]\n",
    "stg=[\"python\"]\n",
    "y=stg+num\n",
    "print(y)\n",
    "     "
   ]
  },
  {
   "cell_type": "code",
   "execution_count": 9,
   "id": "26d22dc5-1043-48d8-8452-9934cdb96581",
   "metadata": {},
   "outputs": [
    {
     "name": "stdout",
     "output_type": "stream",
     "text": [
      "[1, 2, 3, 4, 'python']\n"
     ]
    }
   ],
   "source": [
    "num=[1,2,3,4]\n",
    "stg=[\"python\"]\n",
    "num.extend(stg)\n",
    "print(num)"
   ]
  },
  {
   "cell_type": "code",
   "execution_count": 10,
   "id": "7ed9f6fc-c62e-42e6-986b-3ecf7da89e32",
   "metadata": {},
   "outputs": [
    {
     "name": "stdout",
     "output_type": "stream",
     "text": [
      "['python', 1, 2, 3, 4]\n"
     ]
    }
   ],
   "source": [
    "num=[1,2,3,4]\n",
    "stg=[\"python\"]\n",
    "stg.extend(num)\n",
    "print(stg)"
   ]
  },
  {
   "cell_type": "code",
   "execution_count": 11,
   "id": "b374b928-cc34-46f6-8936-e3623840551b",
   "metadata": {},
   "outputs": [
    {
     "name": "stdout",
     "output_type": "stream",
     "text": [
      "[1, 2, 3, 4, 'python', 'pyy']\n"
     ]
    }
   ],
   "source": [
    "num=[1,2,3,4]\n",
    "stg=[\"python\",\"pyy\"]\n",
    "num.extend(stg)\n",
    "print(num)"
   ]
  },
  {
   "cell_type": "code",
   "execution_count": 12,
   "id": "fb7fb024-a731-49bf-bea0-584ed7dbe8c4",
   "metadata": {},
   "outputs": [
    {
     "name": "stdout",
     "output_type": "stream",
     "text": [
      "[1, 2, 3, 4, 'List', 'python']\n"
     ]
    }
   ],
   "source": [
    "num=[1,2,3,4]\n",
    "stg=[\"python\"]\n",
    "num.extend(stg)\n",
    "num.insert(4,\"List\")\n",
    "print(num)"
   ]
  },
  {
   "cell_type": "code",
   "execution_count": 13,
   "id": "78aa34a6-6c70-4bd1-9e83-977c9981cdcb",
   "metadata": {},
   "outputs": [
    {
     "name": "stdout",
     "output_type": "stream",
     "text": [
      "['RAVI', 1, 2, 3, 4, 'python']\n"
     ]
    }
   ],
   "source": [
    "num=[1,2,3,4]\n",
    "stg=[\"python\"]\n",
    "num.extend(stg)\n",
    "num.insert(0,\"RAVI\")\n",
    "print(num)"
   ]
  },
  {
   "cell_type": "code",
   "execution_count": 14,
   "id": "432f1c59-298d-4b15-8439-e97ab4386f91",
   "metadata": {},
   "outputs": [
    {
     "name": "stdout",
     "output_type": "stream",
     "text": [
      "[1, 2, 3, 4, 'python']\n",
      "[1, 2, 3, 'python']\n"
     ]
    }
   ],
   "source": [
    "num=[1,2,3,4]\n",
    "stg=[\"python\"]\n",
    "num.extend(stg)\n",
    "print(num)\n",
    "num.remove(4)\n",
    "print(num)"
   ]
  },
  {
   "cell_type": "code",
   "execution_count": 15,
   "id": "127d30b1-686a-4697-95d0-d859b076832f",
   "metadata": {},
   "outputs": [
    {
     "name": "stdout",
     "output_type": "stream",
     "text": [
      "['a', 'b', 'g', 'j', 'y', 'z']\n"
     ]
    }
   ],
   "source": [
    "a=['z','y','g','j','a','b']   #asce order\n",
    "a.sort()\n",
    "print(a)"
   ]
  },
  {
   "cell_type": "code",
   "execution_count": 18,
   "id": "93b6a872-9a9f-447b-9d1c-88ce3222d263",
   "metadata": {},
   "outputs": [
    {
     "name": "stdout",
     "output_type": "stream",
     "text": [
      "['z', 'y', 'g', 'c', 'b', 'a']\n"
     ]
    }
   ],
   "source": [
    "a=['z','y','g','a','c','b']   #desc order\n",
    "a.sort(reverse=1)\n",
    "print(a)"
   ]
  },
  {
   "cell_type": "code",
   "execution_count": 21,
   "id": "87875078-6399-4a23-adea-83de6b725fc1",
   "metadata": {},
   "outputs": [
    {
     "name": "stdout",
     "output_type": "stream",
     "text": [
      "6\n",
      "2\n",
      "17\n",
      "69\n"
     ]
    }
   ],
   "source": [
    "a=[9,17,14,15,12,2]\n",
    "print(len(a))\n",
    "print(min(a))\n",
    "print(max(a))\n",
    "print(sum(a))"
   ]
  },
  {
   "cell_type": "code",
   "execution_count": 22,
   "id": "91a32f66-fe45-46b3-b1c7-98217420fb47",
   "metadata": {},
   "outputs": [
    {
     "name": "stdout",
     "output_type": "stream",
     "text": [
      "11.5\n"
     ]
    }
   ],
   "source": [
    "a=[9,17,14,15,12,2]   #mean\n",
    "b=sum(a)/len(a)\n",
    "print(b)"
   ]
  },
  {
   "cell_type": "code",
   "execution_count": 25,
   "id": "425aa2a3-2328-467f-bda1-56ed09c910de",
   "metadata": {},
   "outputs": [
    {
     "name": "stdout",
     "output_type": "stream",
     "text": [
      "[1, 2, 3, 4, 5, 6, 7, 8, 9, 10]\n",
      "[1, 3, 5, 7, 9]\n",
      "[2, 4, 6, 8, 10]\n"
     ]
    }
   ],
   "source": [
    "list1 = list(range(1,11))\n",
    "print(list1)\n",
    "odd=list1[::2]\n",
    "print(odd)\n",
    "even=list1[1::2]\n",
    "print(even)"
   ]
  },
  {
   "cell_type": "code",
   "execution_count": null,
   "id": "7d5690f9-8b1c-45a2-b45e-cdfb2ca8b792",
   "metadata": {},
   "outputs": [],
   "source": []
  }
 ],
 "metadata": {
  "kernelspec": {
   "display_name": "Python 3 (ipykernel)",
   "language": "python",
   "name": "python3"
  },
  "language_info": {
   "codemirror_mode": {
    "name": "ipython",
    "version": 3
   },
   "file_extension": ".py",
   "mimetype": "text/x-python",
   "name": "python",
   "nbconvert_exporter": "python",
   "pygments_lexer": "ipython3",
   "version": "3.12.4"
  }
 },
 "nbformat": 4,
 "nbformat_minor": 5
}
