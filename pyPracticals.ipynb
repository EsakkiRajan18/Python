{
 "cells": [
  {
   "cell_type": "code",
   "execution_count": 1,
   "id": "59fe0a2b-7848-4b32-aa3e-7025dea9d5c6",
   "metadata": {},
   "outputs": [
    {
     "name": "stdin",
     "output_type": "stream",
     "text": [
      "enter a value 5\n",
      "enter a value 6\n"
     ]
    },
    {
     "name": "stdout",
     "output_type": "stream",
     "text": [
      "The sum of 5 and 6 is 11\n"
     ]
    }
   ],
   "source": [
    "def add(a,b):\n",
    "    return a+b\n",
    "num1=int(input(\"enter a value\"))\n",
    "num2=int(input(\"enter a value\"))\n",
    "result=add(num1,num2)\n",
    "print(f\"The sum of {num1} and {num2} is {result}\")"
   ]
  },
  {
   "cell_type": "code",
   "execution_count": 2,
   "id": "354cc987-9315-4298-97a2-c4adc1ae7e7c",
   "metadata": {},
   "outputs": [
    {
     "name": "stdin",
     "output_type": "stream",
     "text": [
      "enter a value 15\n"
     ]
    },
    {
     "name": "stdout",
     "output_type": "stream",
     "text": [
      "The number 15 is divisible by both 3 and 5\n"
     ]
    }
   ],
   "source": [
    "num=int(input(\"enter a value\"))\n",
    "if num%3==0 and num%5==0:\n",
    "    print(f\"The number {num} is divisible by both 3 and 5\")\n",
    "elif num%3==0:\n",
    "    print(f\"The number {num} is divisible by 3 \")\n",
    "elif num%5==0:\n",
    "    print(f\"The number {num} is divisible by 5 \")\n",
    "else:\n",
    "    print(f\"The number {num} is  not either divisible by 3 or 5 \")"
   ]
  },
  {
   "cell_type": "code",
   "execution_count": 3,
   "id": "e73497ec-d465-4d42-a93b-22916a7c1963",
   "metadata": {},
   "outputs": [
    {
     "name": "stdin",
     "output_type": "stream",
     "text": [
      "enter the first list of numbers 5 6 4 9\n",
      "enter the second list of numbers 7 8 9 4\n"
     ]
    },
    {
     "name": "stdout",
     "output_type": "stream",
     "text": [
      "Common elements: {9, 4}\n"
     ]
    }
   ],
   "source": [
    "list1=(input(\"enter the first list of numbers\")).split()\n",
    "list2=(input(\"enter the second list of numbers\")).split()\n",
    "set1=set(map(int,list1))\n",
    "set2=set(map(int,list2))\n",
    "common={x for x in set1 if x in set2}\n",
    "print(f\"Common elements:\",common)"
   ]
  },
  {
   "cell_type": "code",
   "execution_count": null,
   "id": "b6c44ef4-82f8-40d7-94e0-a0eeb4c1789a",
   "metadata": {},
   "outputs": [],
   "source": []
  }
 ],
 "metadata": {
  "kernelspec": {
   "display_name": "Python 3 (ipykernel)",
   "language": "python",
   "name": "python3"
  },
  "language_info": {
   "codemirror_mode": {
    "name": "ipython",
    "version": 3
   },
   "file_extension": ".py",
   "mimetype": "text/x-python",
   "name": "python",
   "nbconvert_exporter": "python",
   "pygments_lexer": "ipython3",
   "version": "3.12.4"
  }
 },
 "nbformat": 4,
 "nbformat_minor": 5
}
