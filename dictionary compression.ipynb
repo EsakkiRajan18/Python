{
 "cells": [
  {
   "cell_type": "code",
   "execution_count": 1,
   "id": "102a9405-4a92-4cb5-8413-e856b4f4f8d1",
   "metadata": {},
   "outputs": [
    {
     "name": "stdout",
     "output_type": "stream",
     "text": [
      "{0: 0, 1: 1, 2: 4, 3: 9, 4: 16}\n"
     ]
    }
   ],
   "source": [
    "sq={x:x**2 for x in range(5)}\n",
    "print(sq)"
   ]
  },
  {
   "cell_type": "code",
   "execution_count": 2,
   "id": "44684d82-50d4-41c6-bbab-ff3d45155097",
   "metadata": {},
   "outputs": [
    {
     "name": "stdout",
     "output_type": "stream",
     "text": [
      "{0: 0, 2: 8, 4: 64, 6: 216, 8: 512, 10: 1000}\n"
     ]
    }
   ],
   "source": [
    "cubes={x:x**3 for x in range(11) if x%2==0}\n",
    "print(cubes)"
   ]
  },
  {
   "cell_type": "code",
   "execution_count": 5,
   "id": "a28a4526-e870-488f-b384-14a1271c88eb",
   "metadata": {},
   "outputs": [
    {
     "name": "stdout",
     "output_type": "stream",
     "text": [
      "{'a': 1, 'b': 2, 'c': 3}\n"
     ]
    }
   ],
   "source": [
    "keys=['a','b','c']\n",
    "values=[1,2,3]\n",
    "my_dict={keys[i]:values[i] for i in range(len(keys))}\n",
    "print(my_dict)"
   ]
  },
  {
   "cell_type": "code",
   "execution_count": 6,
   "id": "b0041804-2bff-4a5f-abe7-c93febd0519f",
   "metadata": {},
   "outputs": [
    {
     "name": "stdout",
     "output_type": "stream",
     "text": [
      "{1: 'a', 2: 'b', 3: 'c'}\n"
     ]
    }
   ],
   "source": [
    "original={'a':1,'b':2,'c':3}\n",
    "swapped={v:k for k, v in original.items()}\n",
    "print(swapped)"
   ]
  },
  {
   "cell_type": "code",
   "execution_count": 7,
   "id": "9a6b7891-892b-4b91-ba70-6bbf86766880",
   "metadata": {},
   "outputs": [
    {
     "name": "stdout",
     "output_type": "stream",
     "text": [
      "{'b': 6, 'd': 10}\n"
     ]
    }
   ],
   "source": [
    "original = {'a': 1, 'b': 6, 'c': 3,'d':10}\n",
    "filtered={k:v for k,v in original.items() if v>=5}\n",
    "print(filtered)"
   ]
  },
  {
   "cell_type": "code",
   "execution_count": 8,
   "id": "cb2513cc-c3c2-4b79-b923-2e39d5aba152",
   "metadata": {},
   "outputs": [],
   "source": [
    "#Transforming vcalues"
   ]
  },
  {
   "cell_type": "code",
   "execution_count": 9,
   "id": "31b6ce23-eda5-4a2d-933c-c8e03b4006db",
   "metadata": {},
   "outputs": [
    {
     "name": "stdout",
     "output_type": "stream",
     "text": [
      "{'a': 10, 'b': 20, 'c': 30}\n"
     ]
    }
   ],
   "source": [
    "og={'a': 1, 'b': 2, 'c': 3}\n",
    "transformed={k:v*10 for k,v in og.items()}\n",
    "print(transformed)"
   ]
  },
  {
   "cell_type": "code",
   "execution_count": 10,
   "id": "e0c47589-8fcb-4900-9843-2936450bacae",
   "metadata": {},
   "outputs": [],
   "source": [
    "#Nested dict comprehension"
   ]
  },
  {
   "cell_type": "code",
   "execution_count": 11,
   "id": "d5e9014f-0580-4243-81b6-1b912dff7467",
   "metadata": {},
   "outputs": [
    {
     "name": "stdout",
     "output_type": "stream",
     "text": [
      "{1: {'square': 1, 'cube': 1}, 2: {'square': 4, 'cube': 8}, 3: {'square': 9, 'cube': 27}, 4: {'square': 16, 'cube': 64}}\n"
     ]
    }
   ],
   "source": [
    "numbers=[1,2,3,4]\n",
    "nested_dict={x:{'square':x**2,'cube':x**3} for x in numbers}\n",
    "print(nested_dict)"
   ]
  },
  {
   "cell_type": "code",
   "execution_count": 12,
   "id": "ea1e5827-0bd5-4801-a6c4-7600ca6093aa",
   "metadata": {},
   "outputs": [],
   "source": [
    "#dict from two lists with a condition"
   ]
  },
  {
   "cell_type": "code",
   "execution_count": 13,
   "id": "51709937-a58d-4f8a-b0ce-68e65b3f9323",
   "metadata": {},
   "outputs": [
    {
     "name": "stdout",
     "output_type": "stream",
     "text": [
      "{'a': 1, 'c': 3}\n"
     ]
    }
   ],
   "source": [
    "keys=['a','b','c','d']\n",
    "values=[1,2,3,4]\n",
    "filtered_dict={keys[i]:values[i] for i in range(len(keys)) if i %2==0}\n",
    "print(filtered_dict)"
   ]
  },
  {
   "cell_type": "code",
   "execution_count": 14,
   "id": "0c1ad5f3-5dac-4644-aef3-a46ffcc9a6ff",
   "metadata": {},
   "outputs": [],
   "source": [
    "#creating dict from tuples"
   ]
  },
  {
   "cell_type": "code",
   "execution_count": 15,
   "id": "2c81252d-7e8c-4d29-80a4-7217f3711c35",
   "metadata": {},
   "outputs": [
    {
     "name": "stdout",
     "output_type": "stream",
     "text": [
      "{'a': 1, 'b': 2, 'c': 3}\n"
     ]
    }
   ],
   "source": [
    "tuples=[('a',1),('b',2),('c',3)]\n",
    "my_dict={key:value for key,value in tuples}\n",
    "print(my_dict)"
   ]
  },
  {
   "cell_type": "code",
   "execution_count": 16,
   "id": "a8fb2918-6c98-4038-8ad4-49ab26e8c195",
   "metadata": {},
   "outputs": [],
   "source": [
    "#Handlin missing keys"
   ]
  },
  {
   "cell_type": "code",
   "execution_count": 17,
   "id": "7a3a2ce2-88cd-42d3-b126-5f364c90cb29",
   "metadata": {},
   "outputs": [
    {
     "name": "stdout",
     "output_type": "stream",
     "text": [
      "{'a': 1, 'b': 2, 'c': 3, 'd': 0}\n"
     ]
    }
   ],
   "source": [
    "keys=['a','b','c','d']\n",
    "values=[1,2,3]\n",
    "my_dict={k:values[i] if i<len(values) else 0 for i,k in enumerate(keys)}\n",
    "print(my_dict)"
   ]
  },
  {
   "cell_type": "code",
   "execution_count": null,
   "id": "58ec061c-c39c-4e36-9d9f-b011d01e0f35",
   "metadata": {},
   "outputs": [],
   "source": []
  }
 ],
 "metadata": {
  "kernelspec": {
   "display_name": "Python 3 (ipykernel)",
   "language": "python",
   "name": "python3"
  },
  "language_info": {
   "codemirror_mode": {
    "name": "ipython",
    "version": 3
   },
   "file_extension": ".py",
   "mimetype": "text/x-python",
   "name": "python",
   "nbconvert_exporter": "python",
   "pygments_lexer": "ipython3",
   "version": "3.12.4"
  }
 },
 "nbformat": 4,
 "nbformat_minor": 5
}
