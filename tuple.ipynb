{
 "cells": [
  {
   "cell_type": "code",
   "execution_count": 1,
   "id": "bea24c5b-4ecc-4b6a-b693-8d99fbb55373",
   "metadata": {},
   "outputs": [
    {
     "name": "stdout",
     "output_type": "stream",
     "text": [
      "(12, 56, 85)\n"
     ]
    }
   ],
   "source": [
    "value_tuple=12,56,85\n",
    "print(value_tuple)"
   ]
  },
  {
   "cell_type": "code",
   "execution_count": 2,
   "id": "08fb0b86-a970-41f4-ab8a-f183b4e8d1e9",
   "metadata": {},
   "outputs": [
    {
     "name": "stdout",
     "output_type": "stream",
     "text": [
      "(123, 8.3, 'hello')\n"
     ]
    }
   ],
   "source": [
    " value_tuple=(123,8.3,'hello')\n",
    "print(value_tuple)"
   ]
  },
  {
   "cell_type": "code",
   "execution_count": 4,
   "id": "edc7a5b8-2c54-4aaa-a0d4-be536259cee9",
   "metadata": {},
   "outputs": [
    {
     "name": "stdout",
     "output_type": "stream",
     "text": [
      "('mmmmmok',)\n"
     ]
    }
   ],
   "source": [
    "tuple=('mmmmmok',)\n",
    "print(tuple)"
   ]
  },
  {
   "cell_type": "code",
   "execution_count": 6,
   "id": "cd4354f9-2730-4b03-a4c3-bfbbe31f00a3",
   "metadata": {},
   "outputs": [
    {
     "name": "stdout",
     "output_type": "stream",
     "text": [
      "(14, 55, 'hello', 7, 5.6, 'pyythoonnnn')\n"
     ]
    }
   ],
   "source": [
    "value_tuple1=(14,55,'hello')\n",
    "value_tuple2=7,5.6,\"pyythoonnnn\"\n",
    "print(value_tuple1 + value_tuple2)"
   ]
  },
  {
   "cell_type": "code",
   "execution_count": 7,
   "id": "f2957a65-d5b5-4b2d-b704-d39bda18a3d4",
   "metadata": {},
   "outputs": [],
   "source": [
    "#Nesting Tuple"
   ]
  },
  {
   "cell_type": "code",
   "execution_count": 9,
   "id": "631d8beb-645d-4fdb-877f-8a548a883984",
   "metadata": {},
   "outputs": [
    {
     "name": "stdout",
     "output_type": "stream",
     "text": [
      "((14, 55, 'hello'), (7, 5.6, 'pyythoonnnn'))\n"
     ]
    }
   ],
   "source": [
    "value_tuple1=(14,55,'hello')\n",
    "value_tuple2=7,5.6,\"pyythoonnnn\"\n",
    "value_tuple3=value_tuple1,value_tuple2\n",
    "print(value_tuple3)"
   ]
  },
  {
   "cell_type": "code",
   "execution_count": null,
   "id": "53ee0dc0-8cfa-40d0-bf57-2055b5c41626",
   "metadata": {},
   "outputs": [],
   "source": [
    "#repetition in tuple"
   ]
  },
  {
   "cell_type": "code",
   "execution_count": 10,
   "id": "e9325796-a5d8-474e-b0f0-53c7995ce337",
   "metadata": {},
   "outputs": [
    {
     "name": "stdout",
     "output_type": "stream",
     "text": [
      "(26, 54, 'hello', 26, 54, 'hello')\n"
     ]
    }
   ],
   "source": [
    "value_tuple =(26,54,'hello')*2\n",
    "print(value_tuple)"
   ]
  },
  {
   "cell_type": "code",
   "execution_count": null,
   "id": "b27a87f8-f89f-4c12-a0ec-4907eb618fdb",
   "metadata": {},
   "outputs": [],
   "source": [
    "#Accessing values in tuple"
   ]
  },
  {
   "cell_type": "code",
   "execution_count": 11,
   "id": "7b8dd373-18c6-4a25-98ef-1edaa63a1d05",
   "metadata": {},
   "outputs": [
    {
     "name": "stdout",
     "output_type": "stream",
     "text": [
      "(12, 66, 'ravi', 6.3)\n"
     ]
    }
   ],
   "source": [
    "tuple=(12,66,'ravi',6.30)\n",
    "print(tuple)"
   ]
  },
  {
   "cell_type": "code",
   "execution_count": null,
   "id": "a7aa7e75-5c8d-4d49-8718-39307a138685",
   "metadata": {},
   "outputs": [],
   "source": [
    "#slicing in tuple"
   ]
  },
  {
   "cell_type": "code",
   "execution_count": 12,
   "id": "f245b311-3dfb-4913-8651-0b756bfd23ab",
   "metadata": {},
   "outputs": [
    {
     "name": "stdout",
     "output_type": "stream",
     "text": [
      "(12, 66, 'ravi', 6.3)\n"
     ]
    }
   ],
   "source": [
    "tuple=(12,66,'ravi',6.30)\n",
    "print(tuple[0:])"
   ]
  },
  {
   "cell_type": "code",
   "execution_count": 17,
   "id": "9bc5af2c-f048-4be0-9de8-8ca138595f61",
   "metadata": {},
   "outputs": [
    {
     "name": "stdout",
     "output_type": "stream",
     "text": [
      "(6.9, 'z', 'hello', 26)\n"
     ]
    }
   ],
   "source": [
    "tuple=(26,45,'hello',7.5,'z',5,6.9)\n",
    "print(tuple[-1::-2])"
   ]
  },
  {
   "cell_type": "code",
   "execution_count": null,
   "id": "02b3f12c-db77-4bc4-b38c-beca2aa75523",
   "metadata": {},
   "outputs": [],
   "source": []
  },
  {
   "cell_type": "code",
   "execution_count": null,
   "id": "8153391c-36be-4bfd-becd-ef40bbbd78ce",
   "metadata": {},
   "outputs": [],
   "source": []
  },
  {
   "cell_type": "code",
   "execution_count": null,
   "id": "4c474fee-4618-458c-b7d1-c68842d322ca",
   "metadata": {},
   "outputs": [],
   "source": []
  },
  {
   "cell_type": "code",
   "execution_count": null,
   "id": "a894cff3-7e9e-4deb-a223-37d43e2b21cd",
   "metadata": {},
   "outputs": [],
   "source": []
  },
  {
   "cell_type": "code",
   "execution_count": null,
   "id": "e34a546d-6537-435f-abae-7609d82f6c18",
   "metadata": {},
   "outputs": [],
   "source": []
  },
  {
   "cell_type": "code",
   "execution_count": null,
   "id": "a04f9b47-8b53-439b-a699-a2fd15ee9e9b",
   "metadata": {},
   "outputs": [],
   "source": []
  }
 ],
 "metadata": {
  "kernelspec": {
   "display_name": "Python 3 (ipykernel)",
   "language": "python",
   "name": "python3"
  },
  "language_info": {
   "codemirror_mode": {
    "name": "ipython",
    "version": 3
   },
   "file_extension": ".py",
   "mimetype": "text/x-python",
   "name": "python",
   "nbconvert_exporter": "python",
   "pygments_lexer": "ipython3",
   "version": "3.12.4"
  }
 },
 "nbformat": 4,
 "nbformat_minor": 5
}
