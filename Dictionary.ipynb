{
 "cells": [
  {
   "cell_type": "code",
   "execution_count": 1,
   "id": "c31bc022-7f5f-4a75-9cc2-07c676690830",
   "metadata": {},
   "outputs": [
    {
     "name": "stdout",
     "output_type": "stream",
     "text": [
      "{}\n"
     ]
    }
   ],
   "source": [
    "dik={}\n",
    "print(dik)"
   ]
  },
  {
   "cell_type": "code",
   "execution_count": 2,
   "id": "7d80d865-d3b6-406b-b673-8f989560005a",
   "metadata": {},
   "outputs": [
    {
     "name": "stdout",
     "output_type": "stream",
     "text": [
      "{1: 'Focus', 2: 'Academy', 3: 'For', 4: 'Career', 5: 'Enhancement'}\n"
     ]
    }
   ],
   "source": [
    "dik={1:\"Focus\",2:\"Academy\",3:\"For\",4:\"Career\",5:\"Enhancement\"}\n",
    "print(dik)"
   ]
  },
  {
   "cell_type": "code",
   "execution_count": 3,
   "id": "8f1fb297-e5e8-4940-9a76-623b26f7db36",
   "metadata": {},
   "outputs": [
    {
     "name": "stdout",
     "output_type": "stream",
     "text": [
      "{1: (2, 4, 5), 'Name': 'Face', 4: [5, 7]}\n"
     ]
    }
   ],
   "source": [
    "dik={1:(2,4,5),\"Name\":\"Face\",4:[5,7]}\n",
    "print(dik)"
   ]
  },
  {
   "cell_type": "code",
   "execution_count": 5,
   "id": "3933ffe0-330d-4f3a-bde3-d5af634e73ce",
   "metadata": {},
   "outputs": [
    {
     "name": "stdout",
     "output_type": "stream",
     "text": [
      "diks are: {1: (2, 4, 5), 'Name': 'Face', 4: [5, 7]}\n"
     ]
    }
   ],
   "source": [
    "dik=dict({1:(2,4,5),\"Name\":\"Face\",4:[5,7]})\n",
    "print(\"diks are:\",dik)"
   ]
  },
  {
   "cell_type": "code",
   "execution_count": 6,
   "id": "a7db22dd-8589-45af-8a46-f01394ac13d1",
   "metadata": {},
   "outputs": [
    {
     "name": "stdout",
     "output_type": "stream",
     "text": [
      "{1: 2, 'Name': 'Face', 4: 5}\n"
     ]
    }
   ],
   "source": [
    "dik=dict([(1,2),(\"Name\",\"Face\"),(4,5)])\n",
    "print(dik)"
   ]
  },
  {
   "cell_type": "code",
   "execution_count": 7,
   "id": "f2ff7d71-1942-459f-bc6a-57ecf0e1919e",
   "metadata": {},
   "outputs": [],
   "source": [
    "#nested dictionary"
   ]
  },
  {
   "cell_type": "code",
   "execution_count": 8,
   "id": "5128df68-af20-4f76-8a12-f8ef8a179506",
   "metadata": {},
   "outputs": [
    {
     "name": "stdout",
     "output_type": "stream",
     "text": [
      "Diks: {1: 'FACE', 2: 4, 3: {5: 'hello', 6: 9.5}}\n"
     ]
    }
   ],
   "source": [
    "dik={1:\"FACE\",2:4,3:{5:\"hello\",6:9.5}}\n",
    "print(\"Diks:\",dik)"
   ]
  },
  {
   "cell_type": "code",
   "execution_count": 9,
   "id": "3fa5dc24-3819-4ba8-b2e9-e402f31d20d6",
   "metadata": {},
   "outputs": [],
   "source": [
    "#adding element to tghe dict"
   ]
  },
  {
   "cell_type": "code",
   "execution_count": 10,
   "id": "aa776593-607d-4a11-9df4-cb6c2f8cb9b8",
   "metadata": {},
   "outputs": [
    {
     "name": "stdout",
     "output_type": "stream",
     "text": [
      "{0: 'Apple', 1: 'Hard', 3: 'Work'}\n"
     ]
    }
   ],
   "source": [
    "dik={}\n",
    "dik[0]=\"Apple\"\n",
    "dik[1]=\"Hard\"\n",
    "dik[3]=\"Work\"\n",
    "print(dik)"
   ]
  },
  {
   "cell_type": "code",
   "execution_count": 11,
   "id": "62e28528-6b54-4721-9372-e3fb8b676e1a",
   "metadata": {},
   "outputs": [
    {
     "name": "stdout",
     "output_type": "stream",
     "text": [
      "{0: 'Apple', 1: 'Hard', 3: 'Work'}\n",
      "{0: 'Apple', 1: 'Hard', 3: 'Work', 'new_set': (1, 5, 5)}\n"
     ]
    }
   ],
   "source": [
    "dik={}\n",
    "dik[0]=\"Apple\"\n",
    "dik[1]=\"Hard\"\n",
    "dik[3]=\"Work\"\n",
    "print(dik)\n",
    "dik['new_set']=1,5,5\n",
    "print(dik)"
   ]
  },
  {
   "cell_type": "code",
   "execution_count": 12,
   "id": "0ec7045d-d319-49ab-980d-cb28eab289ed",
   "metadata": {},
   "outputs": [
    {
     "name": "stdout",
     "output_type": "stream",
     "text": [
      "{0: 'Apple', 1: 'Hard', 3: 'Work'}\n",
      "{0: 'Apple', 1: 'Hard', 3: 'Work', 'new_set': (1, 5, 5)}\n",
      "{0: 'GOOGLE', 1: 'Hard', 3: 'Work', 'new_set': (1, 5, 5)}\n"
     ]
    }
   ],
   "source": [
    "dik={}\n",
    "dik[0]=\"Apple\"\n",
    "dik[1]=\"Hard\"\n",
    "dik[3]=\"Work\"\n",
    "print(dik)\n",
    "dik['new_set']=1,5,5\n",
    "print(dik)\n",
    "dik[0]=\"GOOGLE\"\n",
    "print(dik)"
   ]
  },
  {
   "cell_type": "code",
   "execution_count": 13,
   "id": "b6fb7d1f-8b44-4ecf-8b93-32d30ef2aeb8",
   "metadata": {},
   "outputs": [],
   "source": [
    "#ACCESSING ELEMENTS USING get()"
   ]
  },
  {
   "cell_type": "code",
   "execution_count": 14,
   "id": "4e30055e-e184-4183-b657-f4eced78c979",
   "metadata": {},
   "outputs": [
    {
     "name": "stdout",
     "output_type": "stream",
     "text": [
      "(1, 5, 8)\n",
      "Hard\n"
     ]
    }
   ],
   "source": [
    "dik={0:'Apple',1:'Hard',3:'work','new_set':(1,5,8)}\n",
    "print(dik.get(\"new_set\"))\n",
    "print(dik.get(1))"
   ]
  },
  {
   "cell_type": "code",
   "execution_count": 15,
   "id": "731fc872-bd7c-4203-bcf4-03916c027030",
   "metadata": {},
   "outputs": [],
   "source": [
    "#removing elements"
   ]
  },
  {
   "cell_type": "code",
   "execution_count": 17,
   "id": "90183f19-9a02-4619-ab73-d447efaa2ea4",
   "metadata": {},
   "outputs": [
    {
     "name": "stdout",
     "output_type": "stream",
     "text": [
      "{0: 'Apple', 1: 'Hard', 3: 'work'}\n"
     ]
    }
   ],
   "source": [
    "dik={0:'Apple',1:'Hard',3:'work','new_set':(1,5,8)}\n",
    "dik.pop(\"new_set\")\n",
    "print(dik)"
   ]
  },
  {
   "cell_type": "code",
   "execution_count": 18,
   "id": "558f73d1-8dc7-40a8-9b90-45a66d90eb06",
   "metadata": {},
   "outputs": [],
   "source": [
    "#empty dict"
   ]
  },
  {
   "cell_type": "code",
   "execution_count": 19,
   "id": "b17e1f58-f3d4-4401-9f31-8bb09abb39a9",
   "metadata": {},
   "outputs": [
    {
     "data": {
      "text/plain": [
       "{0: 'Apple', 1: 'Hard', 3: 'work', 'new_set': (1, 5, 8)}"
      ]
     },
     "execution_count": 19,
     "metadata": {},
     "output_type": "execute_result"
    }
   ],
   "source": [
    "dik={0:'Apple',1:'Hard',3:'work','new_set':(1,5,8)}\n",
    "dik"
   ]
  },
  {
   "cell_type": "code",
   "execution_count": null,
   "id": "71bf81ad-ef14-4a23-9eb8-f746c203bebb",
   "metadata": {},
   "outputs": [],
   "source": []
  }
 ],
 "metadata": {
  "kernelspec": {
   "display_name": "Python 3 (ipykernel)",
   "language": "python",
   "name": "python3"
  },
  "language_info": {
   "codemirror_mode": {
    "name": "ipython",
    "version": 3
   },
   "file_extension": ".py",
   "mimetype": "text/x-python",
   "name": "python",
   "nbconvert_exporter": "python",
   "pygments_lexer": "ipython3",
   "version": "3.12.4"
  }
 },
 "nbformat": 4,
 "nbformat_minor": 5
}
