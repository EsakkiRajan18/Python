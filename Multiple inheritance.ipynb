{
 "cells": [
  {
   "cell_type": "code",
   "execution_count": 3,
   "id": "e284bc78-48ae-485d-b375-b083b13a4a82",
   "metadata": {},
   "outputs": [
    {
     "name": "stdin",
     "output_type": "stream",
     "text": [
      "Enter your name:  Ravi\n",
      "Enter your address:  Galaxy\n",
      "Enter your mobile number:  9344371356\n"
     ]
    },
    {
     "name": "stdout",
     "output_type": "stream",
     "text": [
      "\n",
      "Select Room Type:\n",
      "1. Normal Room\n",
      "2. AC Room\n",
      "3. Suite Room\n"
     ]
    },
    {
     "name": "stdin",
     "output_type": "stream",
     "text": [
      "Enter room type (1/2/3):  2\n",
      "Enter the number of rooms:  1\n",
      "Enter the number of days:  69\n"
     ]
    },
    {
     "name": "stdout",
     "output_type": "stream",
     "text": [
      "\n",
      "--- Hotel Booking Details ---\n",
      "Name: Ravi\n",
      "Address: Galaxy\n",
      "Mobile Number: 9344371356\n",
      "Room Type: AC Room\n",
      "Number of Rooms: 1\n",
      "Number of Days: 69\n",
      "Total Rent: 17250 INR\n"
     ]
    }
   ],
   "source": [
    "class NormalRoom:\n",
    "    def calculate(self, no_rooms, days):\n",
    "        if days == 1:\n",
    "            rent_per_room = 300\n",
    "        elif 1 < days <= 5:\n",
    "            rent_per_room = 250        \n",
    "        else:\n",
    "            rent_per_room = 200\n",
    "        return no_rooms * days * rent_per_room\n",
    "\n",
    "\n",
    "class ACRoom:\n",
    "    def AC_calculate(self, no_rooms, days):\n",
    "        if days == 1:\n",
    "            rent_per_room = 450\n",
    "        elif 1 < days <= 5:\n",
    "            rent_per_room = 300\n",
    "        else:\n",
    "            rent_per_room = 250\n",
    "        return no_rooms * days * rent_per_room\n",
    "\n",
    "\n",
    "class SuiteRoom:\n",
    "    def suite_calculate(self, no_rooms, days):\n",
    "        if days == 1:\n",
    "            rent_per_room = 550\n",
    "        elif 1 < days <= 5:\n",
    "            rent_per_room = 500\n",
    "        else:\n",
    "            rent_per_room = 450\n",
    "        return no_rooms * days * rent_per_room\n",
    "\n",
    "\n",
    "class Hotel(NormalRoom, ACRoom, SuiteRoom):\n",
    "    def display(self, name, address, mobile_number):\n",
    "        print(\"\\n--- Hotel Booking Details ---\")\n",
    "        print(f\"Name: {name}\")\n",
    "        print(f\"Address: {address}\")\n",
    "        print(f\"Mobile Number: {mobile_number}\")\n",
    "\n",
    "\n",
    "if __name__ == \"__main__\":\n",
    "    \n",
    "    hotel = Hotel()\n",
    "    \n",
    "    \n",
    "    name = input(\"Enter your name: \")\n",
    "    address = input(\"Enter your address: \")\n",
    "    mobile_number = input(\"Enter your mobile number: \")\n",
    "    \n",
    "    \n",
    "    print(\"\\nSelect Room Type:\")\n",
    "    print(\"1. Normal Room\")\n",
    "    print(\"2. AC Room\")\n",
    "    print(\"3. Suite Room\")\n",
    "    \n",
    "    \n",
    "    room_type = int(input(\"Enter room type (1/2/3): \"))\n",
    "    no_rooms = int(input(\"Enter the number of rooms: \"))\n",
    "    days = int(input(\"Enter the number of days: \"))\n",
    "    \n",
    "   \n",
    "    if room_type == 1:\n",
    "        rent = hotel.calculate(no_rooms, days)\n",
    "        room_name = \"Normal Room\"\n",
    "    elif room_type == 2:\n",
    "        rent = hotel.AC_calculate(no_rooms, days)\n",
    "        room_name = \"AC Room\"\n",
    "    elif room_type == 3:\n",
    "        rent = hotel.suite_calculate(no_rooms, days)\n",
    "        room_name = \"Suite Room\"\n",
    "    else:\n",
    "        print(\"Invalid room type selected!\")\n",
    "        exit()\n",
    "    \n",
    "   \n",
    "    hotel.display(name, address, mobile_number)\n",
    "    print(f\"Room Type: {room_name}\")\n",
    "    print(f\"Number of Rooms: {no_rooms}\")\n",
    "    print(f\"Number of Days: {days}\")\n",
    "    print(f\"Total Rent: {rent} INR\")"
   ]
  },
  {
   "cell_type": "code",
   "execution_count": 7,
   "id": "8e1bba05-8cd5-415f-b970-ffa27da923e8",
   "metadata": {},
   "outputs": [
    {
     "name": "stdin",
     "output_type": "stream",
     "text": [
      "Enter your name:  Maakaan\n",
      "Enter your staff ID:  666\n",
      "Enter the number of days worked:  69\n",
      "Enter the number of hours worked per day:  8\n"
     ]
    },
    {
     "name": "stdout",
     "output_type": "stream",
     "text": [
      "\n",
      "--- Temporary Staff Details ---\n",
      "Name: Maakaan\n",
      "Staff ID: 666\n",
      "Days Worked: 69\n",
      "Hours Per Day: 8\n",
      "Total Salary Earned: 82800 INR\n"
     ]
    }
   ],
   "source": [
    "class Person:\n",
    "    def __init__(self, name):\n",
    "        self.name = name\n",
    "\n",
    "    def display(self):\n",
    "        print(f\"Name: {self.name}\")\n",
    "\n",
    "\n",
    "class Staff(Person):\n",
    "    def __init__(self, name, staff_id):\n",
    "        super().__init__(name)\n",
    "        self.staff_id = staff_id\n",
    "\n",
    "    def display(self):\n",
    "        super().display()\n",
    "        print(f\"Staff ID: {self.staff_id}\")\n",
    "\n",
    "\n",
    "class TemporaryStaff(Staff):\n",
    "    def __init__(self, name, staff_id, days_worked, hours_per_day):\n",
    "        super().__init__(name, staff_id)\n",
    "        self.days_worked = days_worked\n",
    "        self.hours_per_day = hours_per_day\n",
    "\n",
    "    def salary(self):\n",
    "        total_hours = self.days_worked * self.hours_per_day\n",
    "        total_salary = total_hours * 150\n",
    "        return total_salary\n",
    "\n",
    "    def display(self):\n",
    "        super().display()\n",
    "        print(f\"Days Worked: {self.days_worked}\")\n",
    "        print(f\"Hours Per Day: {self.hours_per_day}\")\n",
    "        print(f\"Total Salary Earned: {self.salary()} INR\")\n",
    "\n",
    "\n",
    "\n",
    "if __name__ == \"__main__\":\n",
    "    name = input(\"Enter your name: \")\n",
    "    staff_id = input(\"Enter your staff ID: \")\n",
    "    days_worked = int(input(\"Enter the number of days worked: \"))\n",
    "    hours_per_day = int(input(\"Enter the number of hours worked per day: \"))\n",
    "\n",
    "    temp_staff = TemporaryStaff(name, staff_id, days_worked, hours_per_day)\n",
    "    print(\"\\n--- Temporary Staff Details ---\")\n",
    "    temp_staff.display()"
   ]
  },
  {
   "cell_type": "code",
   "execution_count": null,
   "id": "dcbcf7be-12ed-465a-8a17-5a0b9c021de0",
   "metadata": {},
   "outputs": [],
   "source": []
  },
  {
   "cell_type": "code",
   "execution_count": null,
   "id": "a6bcf941-0003-421a-8e5b-c3bd22b476eb",
   "metadata": {},
   "outputs": [],
   "source": []
  },
  {
   "cell_type": "code",
   "execution_count": null,
   "id": "c4fa5ade-b8d4-4d0e-babd-55565675ea6f",
   "metadata": {},
   "outputs": [],
   "source": []
  },
  {
   "cell_type": "code",
   "execution_count": null,
   "id": "23bd8796-be22-4f2e-b65b-aa4be6bfb1b8",
   "metadata": {},
   "outputs": [],
   "source": []
  },
  {
   "cell_type": "code",
   "execution_count": null,
   "id": "ddce023f-3e36-44a6-b309-3d578594ab91",
   "metadata": {},
   "outputs": [],
   "source": []
  },
  {
   "cell_type": "code",
   "execution_count": null,
   "id": "75edbaa4-afbc-4287-873e-616181e55d82",
   "metadata": {},
   "outputs": [],
   "source": []
  }
 ],
 "metadata": {
  "kernelspec": {
   "display_name": "Python 3 (ipykernel)",
   "language": "python",
   "name": "python3"
  },
  "language_info": {
   "codemirror_mode": {
    "name": "ipython",
    "version": 3
   },
   "file_extension": ".py",
   "mimetype": "text/x-python",
   "name": "python",
   "nbconvert_exporter": "python",
   "pygments_lexer": "ipython3",
   "version": "3.12.4"
  }
 },
 "nbformat": 4,
 "nbformat_minor": 5
}
