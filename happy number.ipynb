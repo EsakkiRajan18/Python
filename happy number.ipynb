{
 "cells": [
  {
   "cell_type": "code",
   "execution_count": 1,
   "id": "48d11feb-09f9-4519-aa0b-9a316012bb0e",
   "metadata": {},
   "outputs": [
    {
     "name": "stdin",
     "output_type": "stream",
     "text": [
      " 100\n"
     ]
    },
    {
     "name": "stdout",
     "output_type": "stream",
     "text": [
      "Happy Number\n"
     ]
    }
   ],
   "source": [
    "def is_happy_number(num):\n",
    "    def sum_of_squares(n):\n",
    "        return sum(int(digit) ** 2 for digit in str(n))\n",
    "\n",
    "    visited_numbers = set()\n",
    "    \n",
    "    while num != 1 and num not in visited_numbers:\n",
    "        visited_numbers.add(num)\n",
    "        num = sum_of_squares(num)\n",
    "    \n",
    "    if num == 1:\n",
    "        return \"Happy Number\"\n",
    "    else:\n",
    "        return \"Not a Happy Number\"\n",
    "\n",
    "number = int(input())\n",
    "print(is_happy_number(number))"
   ]
  },
  {
   "cell_type": "code",
   "execution_count": null,
   "id": "9198cacb-d70d-4f7d-9c0d-3c32da7fcc92",
   "metadata": {},
   "outputs": [],
   "source": []
  }
 ],
 "metadata": {
  "kernelspec": {
   "display_name": "Python 3 (ipykernel)",
   "language": "python",
   "name": "python3"
  },
  "language_info": {
   "codemirror_mode": {
    "name": "ipython",
    "version": 3
   },
   "file_extension": ".py",
   "mimetype": "text/x-python",
   "name": "python",
   "nbconvert_exporter": "python",
   "pygments_lexer": "ipython3",
   "version": "3.12.4"
  }
 },
 "nbformat": 4,
 "nbformat_minor": 5
}
