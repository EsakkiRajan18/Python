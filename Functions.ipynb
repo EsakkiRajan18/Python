{
 "cells": [
  {
   "cell_type": "code",
   "execution_count": 3,
   "id": "d9a4183a-679f-4a68-984e-c607515967bb",
   "metadata": {},
   "outputs": [
    {
     "name": "stdout",
     "output_type": "stream",
     "text": [
      "Thank you\n"
     ]
    }
   ],
   "source": [
    "def fun():\n",
    "    print(\"Thank you\")\n",
    "fun()"
   ]
  },
  {
   "cell_type": "code",
   "execution_count": null,
   "id": "6593b132-4fa9-4739-af77-a8c9e2083eb2",
   "metadata": {},
   "outputs": [],
   "source": [
    "#arithmetic function"
   ]
  },
  {
   "cell_type": "code",
   "execution_count": 4,
   "id": "c552ce76-3806-4627-a712-d50496a2c408",
   "metadata": {},
   "outputs": [
    {
     "name": "stdout",
     "output_type": "stream",
     "text": [
      "9\n",
      "-1\n",
      "20\n",
      "0.8\n"
     ]
    }
   ],
   "source": [
    "def arith(a,b):\n",
    "    print(a+b)\n",
    "    print(a-b)\n",
    "    print(a*b)\n",
    "    print(a/b)\n",
    "arith(4,5)"
   ]
  },
  {
   "cell_type": "code",
   "execution_count": null,
   "id": "50142626-2f8c-4d0f-b608-f1fd1628cc11",
   "metadata": {},
   "outputs": [],
   "source": [
    "#add two numbers using function"
   ]
  },
  {
   "cell_type": "code",
   "execution_count": 9,
   "id": "9e1d3198-4f46-4e5b-b43f-43b5a3099d1a",
   "metadata": {},
   "outputs": [
    {
     "name": "stdin",
     "output_type": "stream",
     "text": [
      "Enter a number 3\n",
      "Enter a number 7\n"
     ]
    },
    {
     "data": {
      "text/plain": [
       "10"
      ]
     },
     "execution_count": 9,
     "metadata": {},
     "output_type": "execute_result"
    }
   ],
   "source": [
    "def sum(n1,n2):\n",
    "    s=n1+n2\n",
    "    return s\n",
    "n1=int(input(\"Enter a number\"))\n",
    "n2=int(input(\"Enter a number\"))\n",
    "sum(n1,n2)"
   ]
  },
  {
   "cell_type": "code",
   "execution_count": null,
   "id": "b93227c5-0efa-4f5e-8065-e1335e42d6b7",
   "metadata": {},
   "outputs": [],
   "source": [
    "#add two numbers using lambda function"
   ]
  },
  {
   "cell_type": "code",
   "execution_count": 10,
   "id": "5b049aab-d59a-4a98-806e-4441cd3023b2",
   "metadata": {},
   "outputs": [
    {
     "name": "stdin",
     "output_type": "stream",
     "text": [
      "Enter the x:  15\n",
      "Enter the y:  25\n"
     ]
    },
    {
     "name": "stdout",
     "output_type": "stream",
     "text": [
      "40\n"
     ]
    }
   ],
   "source": [
    "sum = lambda x, y: x + y\n",
    "x = int(input(\"Enter the x: \"))\n",
    "y = int(input(\"Enter the y: \"))\n",
    "print(sum(x, y))"
   ]
  },
  {
   "cell_type": "code",
   "execution_count": 11,
   "id": "46e1c76c-3de6-4928-9c67-f764e1be12e4",
   "metadata": {},
   "outputs": [],
   "source": [
    "#local or global"
   ]
  },
  {
   "cell_type": "code",
   "execution_count": 12,
   "id": "db12c787-3af5-40da-b5fa-c60f10399247",
   "metadata": {},
   "outputs": [
    {
     "name": "stdout",
     "output_type": "stream",
     "text": [
      "Inside the function local total:  30\n",
      "Outside the function global total:  0\n"
     ]
    }
   ],
   "source": [
    "total=0;\n",
    "def sum(arg1,arg2):\n",
    "  total=arg1+arg2;\n",
    "  print(\"Inside the function local total: \",total)\n",
    "  return total;\n",
    "sum(10,20);\n",
    "print(\"Outside the function global total: \",total)"
   ]
  },
  {
   "cell_type": "code",
   "execution_count": 13,
   "id": "d9151fe9-6cc5-4ef3-97b6-2cf02fed813f",
   "metadata": {},
   "outputs": [
    {
     "name": "stdout",
     "output_type": "stream",
     "text": [
      "35\n"
     ]
    }
   ],
   "source": [
    "print(max(10,5,35))"
   ]
  },
  {
   "cell_type": "code",
   "execution_count": null,
   "id": "7ce25b71-7d6d-4438-bc39-866a246b5ee9",
   "metadata": {},
   "outputs": [],
   "source": [
    "  "
   ]
  }
 ],
 "metadata": {
  "kernelspec": {
   "display_name": "Python 3 (ipykernel)",
   "language": "python",
   "name": "python3"
  },
  "language_info": {
   "codemirror_mode": {
    "name": "ipython",
    "version": 3
   },
   "file_extension": ".py",
   "mimetype": "text/x-python",
   "name": "python",
   "nbconvert_exporter": "python",
   "pygments_lexer": "ipython3",
   "version": "3.12.4"
  }
 },
 "nbformat": 4,
 "nbformat_minor": 5
}
