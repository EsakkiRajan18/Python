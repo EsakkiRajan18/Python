{
 "cells": [
  {
   "cell_type": "code",
   "execution_count": 3,
   "id": "dfad7608-0cd7-45b7-a14b-838591c094d6",
   "metadata": {},
   "outputs": [
    {
     "name": "stdout",
     "output_type": "stream",
     "text": [
      "{'python', 5.6, 6}\n"
     ]
    },
    {
     "data": {
      "text/plain": [
       "set"
      ]
     },
     "execution_count": 3,
     "metadata": {},
     "output_type": "execute_result"
    }
   ],
   "source": [
    "values = {6,'python',5.6}\n",
    "print(values)\n",
    "type(values)"
   ]
  },
  {
   "cell_type": "code",
   "execution_count": 4,
   "id": "56eb3179-258a-4350-9a9e-10563ec633b4",
   "metadata": {},
   "outputs": [
    {
     "name": "stdout",
     "output_type": "stream",
     "text": [
      "<class 'dict'>\n"
     ]
    }
   ],
   "source": [
    "value = {}\n",
    "print(type(value))"
   ]
  },
  {
   "cell_type": "code",
   "execution_count": 5,
   "id": "a664efe5-aa18-4873-880b-8dbd82c8b56d",
   "metadata": {},
   "outputs": [
    {
     "data": {
      "text/plain": [
       "set"
      ]
     },
     "execution_count": 5,
     "metadata": {},
     "output_type": "execute_result"
    }
   ],
   "source": [
    "value=set()\n",
    "type(value)"
   ]
  },
  {
   "cell_type": "code",
   "execution_count": 7,
   "id": "706a2940-96b8-4cd5-892f-455011eb0d07",
   "metadata": {},
   "outputs": [
    {
     "data": {
      "text/plain": [
       "{1, 2, 3, 4, 5, 6, 7, 8, 9, 10}"
      ]
     },
     "execution_count": 7,
     "metadata": {},
     "output_type": "execute_result"
    }
   ],
   "source": [
    "values={1,3,2,4,6,7,5,9,8,10}\n",
    "values"
   ]
  },
  {
   "cell_type": "code",
   "execution_count": 8,
   "id": "232a8cf6-7cba-4687-8889-0d6ef2525bcf",
   "metadata": {},
   "outputs": [
    {
     "name": "stdout",
     "output_type": "stream",
     "text": [
      "set()\n"
     ]
    }
   ],
   "source": [
    "set1 = set()\n",
    "print(set1)"
   ]
  },
  {
   "cell_type": "code",
   "execution_count": 9,
   "id": "54dfea36-615e-4345-b3cf-54445c5845e4",
   "metadata": {},
   "outputs": [
    {
     "data": {
      "text/plain": [
       "{2, 5, 9.4, 'PYTHON', 'a'}"
      ]
     },
     "execution_count": 9,
     "metadata": {},
     "output_type": "execute_result"
    }
   ],
   "source": [
    "value_set = {2,'PYTHON','a',5,9.4}\n",
    "value_set"
   ]
  },
  {
   "cell_type": "code",
   "execution_count": 11,
   "id": "826c9ef2-fe02-448c-aa4a-3bda82e67b79",
   "metadata": {},
   "outputs": [
    {
     "ename": "TypeError",
     "evalue": "'set' object is not subscriptable",
     "output_type": "error",
     "traceback": [
      "\u001b[1;31m---------------------------------------------------------------------------\u001b[0m",
      "\u001b[1;31mTypeError\u001b[0m                                 Traceback (most recent call last)",
      "Cell \u001b[1;32mIn[11], line 1\u001b[0m\n\u001b[1;32m----> 1\u001b[0m value_set[\u001b[38;5;241m0\u001b[39m]\n\u001b[0;32m      2\u001b[0m value_set\n",
      "\u001b[1;31mTypeError\u001b[0m: 'set' object is not subscriptable"
     ]
    }
   ],
   "source": [
    "value_set[0]   #type error\n",
    "value_set"
   ]
  },
  {
   "cell_type": "code",
   "execution_count": 13,
   "id": "03811037-3b90-4309-be66-ab646485226b",
   "metadata": {},
   "outputs": [
    {
     "name": "stdout",
     "output_type": "stream",
     "text": [
      "{2, 'a', 5, 'PYTHON', 9.4}\n"
     ]
    },
    {
     "ename": "AttributeError",
     "evalue": "'set' object has no attribute 'append'",
     "output_type": "error",
     "traceback": [
      "\u001b[1;31m---------------------------------------------------------------------------\u001b[0m",
      "\u001b[1;31mAttributeError\u001b[0m                            Traceback (most recent call last)",
      "Cell \u001b[1;32mIn[13], line 3\u001b[0m\n\u001b[0;32m      1\u001b[0m value_set \u001b[38;5;241m=\u001b[39m {\u001b[38;5;241m2\u001b[39m,\u001b[38;5;124m'\u001b[39m\u001b[38;5;124mPYTHON\u001b[39m\u001b[38;5;124m'\u001b[39m,\u001b[38;5;124m'\u001b[39m\u001b[38;5;124ma\u001b[39m\u001b[38;5;124m'\u001b[39m,\u001b[38;5;241m5\u001b[39m,\u001b[38;5;241m9.4\u001b[39m}\n\u001b[0;32m      2\u001b[0m \u001b[38;5;28mprint\u001b[39m(value_set)\n\u001b[1;32m----> 3\u001b[0m value_set\u001b[38;5;241m.\u001b[39mappend(\u001b[38;5;124m'\u001b[39m\u001b[38;5;124mHELLO\u001b[39m\u001b[38;5;124m'\u001b[39m)\n\u001b[0;32m      4\u001b[0m \u001b[38;5;28mprint\u001b[39m(value_set)\n",
      "\u001b[1;31mAttributeError\u001b[0m: 'set' object has no attribute 'append'"
     ]
    }
   ],
   "source": [
    "value_set = {2,'PYTHON','a',5,9.4}    #attribute error\n",
    "print(value_set)\n",
    "value_set.append('HELLO')\n",
    "print(value_set)"
   ]
  },
  {
   "cell_type": "code",
   "execution_count": 14,
   "id": "5fc6c105-5a14-4cdd-89fe-099db94bc399",
   "metadata": {},
   "outputs": [
    {
     "name": "stdout",
     "output_type": "stream",
     "text": [
      "{2, 'a', 5, 'PYTHON', 9.4}\n",
      "{2, 'a', 5, 'PYTHON', 9.4, 'HELLO'}\n"
     ]
    }
   ],
   "source": [
    "value_set = {2,'PYTHON','a',5,9.4}   \n",
    "print(value_set)\n",
    "value_set.add('HELLO')\n",
    "print(value_set)"
   ]
  },
  {
   "cell_type": "code",
   "execution_count": 17,
   "id": "cda53e64-518f-41a1-8171-1e389015146f",
   "metadata": {},
   "outputs": [
    {
     "name": "stdout",
     "output_type": "stream",
     "text": [
      "{2, 'a', 5, 'PYTHON', 9.4}\n",
      "{2, 'a', 5, 9.4}\n"
     ]
    }
   ],
   "source": [
    "value_set = {2,'PYTHON','a',5,9.4}    #attribute error\n",
    "print(value_set)\n",
    "value_set.remove('PYTHON',)\n",
    "print(value_set)"
   ]
  },
  {
   "cell_type": "code",
   "execution_count": 18,
   "id": "115f9387-f75c-47be-9624-c11f54729f4e",
   "metadata": {},
   "outputs": [
    {
     "name": "stdout",
     "output_type": "stream",
     "text": [
      "{2, 'a', 5, 'PYTHON', 9.4}\n",
      "{2, 'a', 5, 'PYTHON'}\n"
     ]
    }
   ],
   "source": [
    "value_set = {2,'PYTHON','a',5,9.4}    #attribute error\n",
    "print(value_set)\n",
    "value_set.discard(9.4)\n",
    "print(value_set)"
   ]
  },
  {
   "cell_type": "code",
   "execution_count": 19,
   "id": "1c08be1c-fea7-4cb2-a1c3-a1c1adc97638",
   "metadata": {},
   "outputs": [
    {
     "name": "stdout",
     "output_type": "stream",
     "text": [
      "{2, 'a', 5, 'PYTHON', 9.4}\n",
      "set()\n"
     ]
    }
   ],
   "source": [
    "value_set = {2,'PYTHON','a',5,9.4}    #attribute error\n",
    "print(value_set)\n",
    "value_set.clear()\n",
    "print(value_set)"
   ]
  },
  {
   "cell_type": "code",
   "execution_count": 4,
   "id": "53757130-dc3e-40fc-b19a-dd5e90a7019a",
   "metadata": {},
   "outputs": [
    {
     "name": "stdin",
     "output_type": "stream",
     "text": [
      " 4\n",
      " 12\n",
      " 65\n",
      " 88\n",
      " 96\n"
     ]
    }
   ],
   "source": [
    "value_set=set()\n",
    "n=int(input())\n",
    "for i in range(n):\n",
    "    value_set.add(int(input()))"
   ]
  },
  {
   "cell_type": "code",
   "execution_count": 5,
   "id": "6833e9d9-91fb-4ce7-808f-312c32afdb5f",
   "metadata": {},
   "outputs": [
    {
     "data": {
      "text/plain": [
       "{12, 65, 88, 96}"
      ]
     },
     "execution_count": 5,
     "metadata": {},
     "output_type": "execute_result"
    }
   ],
   "source": [
    "value_set"
   ]
  },
  {
   "cell_type": "code",
   "execution_count": 6,
   "id": "4288a4c0-d0c7-4255-b14a-1d909592e6fb",
   "metadata": {},
   "outputs": [
    {
     "name": "stdout",
     "output_type": "stream",
     "text": [
      "88\n",
      "65\n",
      "12\n",
      "96\n"
     ]
    }
   ],
   "source": [
    "for i in value_set:\n",
    "    print(i)"
   ]
  },
  {
   "cell_type": "code",
   "execution_count": 7,
   "id": "d0e613c5-a305-4171-a366-ef3f95d2599d",
   "metadata": {},
   "outputs": [],
   "source": [
    "#check the element got frm the user is present in the value set"
   ]
  },
  {
   "cell_type": "code",
   "execution_count": 8,
   "id": "02c546aa-df22-4166-90a3-f74fd0f43cd8",
   "metadata": {},
   "outputs": [
    {
     "name": "stdin",
     "output_type": "stream",
     "text": [
      " 65\n"
     ]
    },
    {
     "name": "stdout",
     "output_type": "stream",
     "text": [
      "True\n"
     ]
    }
   ],
   "source": [
    "x=int(input())\n",
    "y=(x in value_set)\n",
    "print(y)"
   ]
  },
  {
   "cell_type": "code",
   "execution_count": 9,
   "id": "cd661126-5eaf-4342-b838-13d9a4b7a31b",
   "metadata": {},
   "outputs": [
    {
     "data": {
      "text/plain": [
       "4"
      ]
     },
     "execution_count": 9,
     "metadata": {},
     "output_type": "execute_result"
    }
   ],
   "source": [
    "#length\n",
    "len(value_set)"
   ]
  },
  {
   "cell_type": "code",
   "execution_count": 10,
   "id": "401b4777-73ec-4241-9235-1a6ede214a10",
   "metadata": {},
   "outputs": [],
   "source": [
    "#union"
   ]
  },
  {
   "cell_type": "code",
   "execution_count": 16,
   "id": "79971250-b979-4511-90b9-ebf109c84419",
   "metadata": {},
   "outputs": [
    {
     "name": "stdout",
     "output_type": "stream",
     "text": [
      "First six months are: {'mar', 'feb', 'may', 'jun', 'jan', 'apr'}\n",
      "Second six months are: {'aug', 'jul', 'sep', 'dec', 'oct', 'nov'}\n",
      "Total months in a Year: {'jul', 'sep', 'jan', 'nov', 'mar', 'apr', 'aug', 'jun', 'dec', 'oct', 'feb', 'may'}\n",
      "method2 {'jul', 'sep', 'jan', 'nov', 'mar', 'apr', 'aug', 'jun', 'dec', 'oct', 'feb', 'may'}\n"
     ]
    }
   ],
   "source": [
    "month1={\"jan\",\"feb\",\"mar\",\"apr\",\"may\",\"jun\"}\n",
    "month2={\"jul\",\"aug\",\"sep\",\"oct\",\"nov\",\"dec\"}\n",
    "print(\"First six months are:\",month1)\n",
    "print(\"Second six months are:\",month2)\n",
    "months=month1|month2\n",
    "print(\"Total months in a Year:\",months)\n",
    "################################################### method2\n",
    "union_month=month1.union(month2)\n",
    "print(\"method2\",union_month)"
   ]
  },
  {
   "cell_type": "code",
   "execution_count": 15,
   "id": "70441c22-dd8e-4d33-ace2-6c315e3d7e9e",
   "metadata": {},
   "outputs": [
    {
     "name": "stdout",
     "output_type": "stream",
     "text": [
      "Method1 {'aug', 'may'}\n",
      "Method2 {'aug', 'may'}\n"
     ]
    }
   ],
   "source": [
    "#intersection\n",
    "month1={\"jan\",\"feb\",\"mar\",\"apr\",\"may\",\"jun\",\"aug\"}\n",
    "month2={\"jul\",\"aug\",\"sep\",\"oct\",\"nov\",\"dec\",\"may\"}\n",
    "common_month=month1&month2\n",
    "print(\"Method1\",common_month)\n",
    "##################################################### method2\n",
    "com_mon=month1.intersection(month2)\n",
    "print(\"Method2\",com_mon)"
   ]
  },
  {
   "cell_type": "code",
   "execution_count": 17,
   "id": "71e69742-5178-4fc2-9c83-05a31bc4813d",
   "metadata": {},
   "outputs": [],
   "source": [
    "#diff of two sets\n"
   ]
  },
  {
   "cell_type": "code",
   "execution_count": 19,
   "id": "544f84a0-2c0c-4c99-93f0-ae4853191c86",
   "metadata": {},
   "outputs": [
    {
     "name": "stdout",
     "output_type": "stream",
     "text": [
      "Diff {'jan', 'mar', 'apr', 'jun', 'feb', 'may'}\n",
      "DIfference {'jan', 'mar', 'apr', 'jun', 'feb', 'may'}\n"
     ]
    }
   ],
   "source": [
    "month1={\"jan\",\"feb\",\"mar\",\"apr\",\"may\",\"jun\"}\n",
    "month2={\"jul\",\"aug\",\"sep\",\"oct\",\"nov\",\"dec\"}\n",
    "x=month1-month2\n",
    "print(\"Diff\",x)\n",
    "#########################################################method2\n",
    "y=month1.difference(month2)\n",
    "print(\"DIfference\",y)"
   ]
  },
  {
   "cell_type": "code",
   "execution_count": 20,
   "id": "6d3e5426-42e7-43df-9450-59a3cb462c45",
   "metadata": {},
   "outputs": [],
   "source": [
    "#set comparison"
   ]
  },
  {
   "cell_type": "code",
   "execution_count": 21,
   "id": "96cd9965-897e-4385-907f-754d55a6b666",
   "metadata": {},
   "outputs": [
    {
     "data": {
      "text/plain": [
       "True"
      ]
     },
     "execution_count": 21,
     "metadata": {},
     "output_type": "execute_result"
    }
   ],
   "source": [
    "month1={\"jan\",\"feb\",\"dec\",\"mar\"}\n",
    "month2={\"jan\",\"feb\"}\n",
    "print(month1>month2)\n",
    "###################################method2\n",
    "y=month1."
   ]
  },
  {
   "cell_type": "code",
   "execution_count": 1,
   "id": "97f5fbc6-81d1-4802-93aa-7689e56db7ae",
   "metadata": {},
   "outputs": [],
   "source": [
    "#Set Comparison"
   ]
  },
  {
   "cell_type": "code",
   "execution_count": 2,
   "id": "3bcab481-d16d-4ea9-844a-26cdb361b320",
   "metadata": {},
   "outputs": [
    {
     "name": "stdout",
     "output_type": "stream",
     "text": [
      "True\n",
      "False\n",
      "False\n"
     ]
    }
   ],
   "source": [
    "month1={\"jan\",\"feb\",\"dec\",\"mar\"}\n",
    "month2={\"jan\",\"feb\"}\n",
    "print(month1>month2)\n",
    "print(month1<month2)\n",
    "print(month1==month2)\n"
   ]
  },
  {
   "cell_type": "code",
   "execution_count": null,
   "id": "667f16fb-1a18-49ea-98bf-aeb6ac5ab30a",
   "metadata": {},
   "outputs": [],
   "source": [
    "#exp the frozen sets in python with suitable example"
   ]
  }
 ],
 "metadata": {
  "kernelspec": {
   "display_name": "Python 3 (ipykernel)",
   "language": "python",
   "name": "python3"
  },
  "language_info": {
   "codemirror_mode": {
    "name": "ipython",
    "version": 3
   },
   "file_extension": ".py",
   "mimetype": "text/x-python",
   "name": "python",
   "nbconvert_exporter": "python",
   "pygments_lexer": "ipython3",
   "version": "3.12.4"
  }
 },
 "nbformat": 4,
 "nbformat_minor": 5
}
