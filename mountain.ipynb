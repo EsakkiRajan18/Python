{
 "cells": [
  {
   "cell_type": "code",
   "execution_count": 11,
   "id": "2be7b434-23c4-4985-a473-ad9e0cbfe19f",
   "metadata": {},
   "outputs": [
    {
     "name": "stdin",
     "output_type": "stream",
     "text": [
      "Enter the age   16\n",
      "Enter the show time:  10.15\n"
     ]
    },
    {
     "name": "stdout",
     "output_type": "stream",
     "text": [
      "8.0\n"
     ]
    }
   ],
   "source": [
    "age = int(input(\"Enter the age  \"))\n",
    "show_time = float(input(\"Enter the show time: \"))\n",
    "if age <= 13:\n",
    "    if 10.15 <= show_time <= 13.30:\n",
    "        ticket_price = 8.00\n",
    "    elif 18.00 <= show_time <= 22.00:\n",
    "        ticket_price = 5.00\n",
    "elif age < 13:\n",
    "    if 10.15 <= show_time <= 3.30:\n",
    "        ticket_price = 4.00\n",
    "    elif 18.00 <= show_time <= 22.00:\n",
    "        ticket_price = 2.00\n",
    "print(ticket_price)"
   ]
  },
  {
   "cell_type": "code",
   "execution_count": null,
   "id": "559ecc99-7db7-4f51-a381-8767d67e2449",
   "metadata": {},
   "outputs": [],
   "source": [
    "birth_age=int(input())\n",
    "current_year=2024\n"
   ]
  },
  {
   "cell_type": "code",
   "execution_count": 17,
   "id": "0ff94c94-b683-42a0-a467-9426490145cd",
   "metadata": {},
   "outputs": [
    {
     "name": "stdin",
     "output_type": "stream",
     "text": [
      "Enter the last two digits of your birth year:  2003\n",
      "Enter the last two digits of the current year:  2024\n"
     ]
    },
    {
     "name": "stdout",
     "output_type": "stream",
     "text": [
      "Your current age is: 21\n"
     ]
    }
   ],
   "source": [
    "birthyear = int(input(\"Enter the last two digits of your birth year: \"))\n",
    "currentyear = int(input(\"Enter the last two digits of the current year: \"))\n",
    "if currentyear >= birthyear:\n",
    "    age = currentyear - birthyear\n",
    "else:\n",
    "    age = (100 - birthyear)+currentyear\n",
    "print(\"Your current age is:\", age)"
   ]
  },
  {
   "cell_type": "code",
   "execution_count": 31,
   "id": "a092ce18-9be1-4608-aad5-880d51a59e26",
   "metadata": {},
   "outputs": [
    {
     "name": "stdout",
     "output_type": "stream",
     "text": [
      "1 \n",
      "2 2 \n",
      "3 3 3 \n",
      "4 4 4 4 \n",
      "5 5 5 5 5 \n"
     ]
    }
   ],
   "source": [
    "for i in range (1,6):\n",
    "    for j in range(i):\n",
    "        print(i,end=\" \")\n",
    "    print() \n",
    "        "
   ]
  },
  {
   "cell_type": "code",
   "execution_count": null,
   "id": "f87dd341-05df-428a-9fa2-601c85d6eef3",
   "metadata": {},
   "outputs": [],
   "source": [
    "for i in range (1,6):\n",
    "    for j in range(i):\n",
    "        print(i,end=\" \")\n",
    "    print() \n",
    "        "
   ]
  }
 ],
 "metadata": {
  "kernelspec": {
   "display_name": "Python 3 (ipykernel)",
   "language": "python",
   "name": "python3"
  },
  "language_info": {
   "codemirror_mode": {
    "name": "ipython",
    "version": 3
   },
   "file_extension": ".py",
   "mimetype": "text/x-python",
   "name": "python",
   "nbconvert_exporter": "python",
   "pygments_lexer": "ipython3",
   "version": "3.12.4"
  }
 },
 "nbformat": 4,
 "nbformat_minor": 5
}
