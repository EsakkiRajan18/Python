{
 "cells": [
  {
   "cell_type": "code",
   "execution_count": 4,
   "id": "7c8786d7-c511-4cb2-9ed7-b327d2357eb1",
   "metadata": {},
   "outputs": [
    {
     "name": "stdout",
     "output_type": "stream",
     "text": [
      "The generic sound\n",
      "barks\n",
      "Meow\n"
     ]
    }
   ],
   "source": [
    "class Animal:\n",
    "    def sound(self):\n",
    "        print(\"The generic sound\")\n",
    "\n",
    "class dog:\n",
    "    def sound(self):\n",
    "        print(\"barks\")\n",
    "\n",
    "class cat:\n",
    "    def sound(self):\n",
    "        print(\"Meow\")\n",
    "\n",
    "\n",
    "a=Animal()\n",
    "a.sound()\n",
    "d=dog()\n",
    "d.sound()\n",
    "c=cat()\n",
    "c.sound()"
   ]
  },
  {
   "cell_type": "code",
   "execution_count": 3,
   "id": "9ca71caa-e958-4546-b678-2af0b25f165b",
   "metadata": {},
   "outputs": [
    {
     "name": "stdout",
     "output_type": "stream",
     "text": [
      "5\n",
      "15\n",
      "30\n",
      "50\n"
     ]
    }
   ],
   "source": [
    "class Calc:\n",
    "    def add(self, *args):\n",
    "        return sum(args)\n",
    "\n",
    "def main():\n",
    "    result = Calc()\n",
    "    print(result.add(5))\n",
    "    print(result.add(5,10))\n",
    "    print(result.add(5,10,15))\n",
    "    print(result.add(5,10,15,20))\n",
    "main()"
   ]
  },
  {
   "cell_type": "code",
   "execution_count": null,
   "id": "dd87d8ba-a775-484b-906e-f95fa2825881",
   "metadata": {},
   "outputs": [],
   "source": []
  }
 ],
 "metadata": {
  "kernelspec": {
   "display_name": "Python 3 (ipykernel)",
   "language": "python",
   "name": "python3"
  },
  "language_info": {
   "codemirror_mode": {
    "name": "ipython",
    "version": 3
   },
   "file_extension": ".py",
   "mimetype": "text/x-python",
   "name": "python",
   "nbconvert_exporter": "python",
   "pygments_lexer": "ipython3",
   "version": "3.12.4"
  }
 },
 "nbformat": 4,
 "nbformat_minor": 5
}
