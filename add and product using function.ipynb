{
 "cells": [
  {
   "cell_type": "code",
   "execution_count": 5,
   "id": "9d3a7dc6-64a1-4879-8c1f-7f31161f0ae7",
   "metadata": {},
   "outputs": [
    {
     "name": "stdin",
     "output_type": "stream",
     "text": [
      "Enter X: 5\n",
      "Enter Y: 5\n",
      "Enter Z: 8\n"
     ]
    },
    {
     "name": "stdout",
     "output_type": "stream",
     "text": [
      "18.0\n",
      "200.0\n"
     ]
    }
   ],
   "source": [
    "X = int(input(\"Enter X:\"))\n",
    "Y = float(input(\"Enter Y:\"))\n",
    "Z = int(input(\"Enter Z:\"))\n",
    "def sum():\n",
    "    s=X+Y+Z\n",
    "    return s\n",
    "def pro():\n",
    "    p=X*Y*Z\n",
    "    return p\n",
    "print(sum())\n",
    "print(pro())"
   ]
  },
  {
   "cell_type": "code",
   "execution_count": null,
   "id": "16f0adec-cc9b-4b3f-b0d6-eca3f2e9712d",
   "metadata": {},
   "outputs": [],
   "source": []
  }
 ],
 "metadata": {
  "kernelspec": {
   "display_name": "Python 3 (ipykernel)",
   "language": "python",
   "name": "python3"
  },
  "language_info": {
   "codemirror_mode": {
    "name": "ipython",
    "version": 3
   },
   "file_extension": ".py",
   "mimetype": "text/x-python",
   "name": "python",
   "nbconvert_exporter": "python",
   "pygments_lexer": "ipython3",
   "version": "3.12.4"
  }
 },
 "nbformat": 4,
 "nbformat_minor": 5
}
