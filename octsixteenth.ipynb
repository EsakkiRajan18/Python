{
 "cells": [
  {
   "cell_type": "code",
   "execution_count": 3,
   "id": "3b78ec9a-7995-4f44-8ba2-fa4f2e60461b",
   "metadata": {},
   "outputs": [
    {
     "name": "stdin",
     "output_type": "stream",
     "text": [
      " fff\n",
      " fff\n"
     ]
    },
    {
     "name": "stdout",
     "output_type": "stream",
     "text": [
      "<class 'str'>\n",
      "<class 'str'>\n",
      "Same String\n"
     ]
    }
   ],
   "source": [
    "x=input()\n",
    "y=input()\n",
    "print(type(x))\n",
    "print(type(y))\n",
    "if x==y:\n",
    "    print(\"Same String\")\n",
    "else:\n",
    "    print(\"Not a same srting\")"
   ]
  },
  {
   "cell_type": "code",
   "execution_count": 4,
   "id": "958d5b16-20cc-4495-8ba4-7de5e1ef03d9",
   "metadata": {},
   "outputs": [
    {
     "name": "stdin",
     "output_type": "stream",
     "text": [
      " 28\n"
     ]
    },
    {
     "name": "stdout",
     "output_type": "stream",
     "text": [
      "It is multiple of 7\n"
     ]
    }
   ],
   "source": [
    "x=int(input())\n",
    "if x%7==0:\n",
    "    print(\"It is multiple of 7\")\n",
    "else:\n",
    "    print(\"Not multiple of 7\")"
   ]
  },
  {
   "cell_type": "code",
   "execution_count": 28,
   "id": "f0b11615-5b79-498c-ba4a-4fbbf049e715",
   "metadata": {},
   "outputs": [
    {
     "name": "stdin",
     "output_type": "stream",
     "text": [
      " 7\n",
      " 10\n",
      " 7\n"
     ]
    },
    {
     "name": "stdout",
     "output_type": "stream",
     "text": [
      "Yes\n"
     ]
    }
   ],
   "source": [
    "n=int(input())\n",
    "l=int(input())\n",
    "r=int(input())\n",
    "if n>=l and n<=r:\n",
    "  print(\"Yes\")\n",
    "elif n<=l and n>=r:\n",
    "  print(\"Yes\")\n",
    "else:\n",
    "    (\"No\")"
   ]
  },
  {
   "cell_type": "code",
   "execution_count": null,
   "id": "3e345a48-12ca-445b-a3fa-18bb1a4cb440",
   "metadata": {},
   "outputs": [],
   "source": []
  }
 ],
 "metadata": {
  "kernelspec": {
   "display_name": "Python 3 (ipykernel)",
   "language": "python",
   "name": "python3"
  },
  "language_info": {
   "codemirror_mode": {
    "name": "ipython",
    "version": 3
   },
   "file_extension": ".py",
   "mimetype": "text/x-python",
   "name": "python",
   "nbconvert_exporter": "python",
   "pygments_lexer": "ipython3",
   "version": "3.12.4"
  }
 },
 "nbformat": 4,
 "nbformat_minor": 5
}
