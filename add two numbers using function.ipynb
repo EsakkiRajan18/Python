{
 "cells": [
  {
   "cell_type": "code",
   "execution_count": 1,
   "id": "887695b7-cc92-456b-b11b-988dcd099f6c",
   "metadata": {},
   "outputs": [
    {
     "name": "stdin",
     "output_type": "stream",
     "text": [
      "Enter a number 4\n",
      "Enter a number 4\n"
     ]
    },
    {
     "data": {
      "text/plain": [
       "8"
      ]
     },
     "execution_count": 1,
     "metadata": {},
     "output_type": "execute_result"
    }
   ],
   "source": [
    "def sum(n1,n2):\n",
    "    s=n1+n2\n",
    "    return s\n",
    "n1=int(input(\"Enter a number\"))\n",
    "n2=int(input(\"Enter a number\"))\n",
    "sum(n1,n2)"
   ]
  },
  {
   "cell_type": "code",
   "execution_count": null,
   "id": "f43761c8-1039-4651-b6e7-1c7555c81475",
   "metadata": {},
   "outputs": [],
   "source": []
  }
 ],
 "metadata": {
  "kernelspec": {
   "display_name": "Python 3 (ipykernel)",
   "language": "python",
   "name": "python3"
  },
  "language_info": {
   "codemirror_mode": {
    "name": "ipython",
    "version": 3
   },
   "file_extension": ".py",
   "mimetype": "text/x-python",
   "name": "python",
   "nbconvert_exporter": "python",
   "pygments_lexer": "ipython3",
   "version": "3.12.4"
  }
 },
 "nbformat": 4,
 "nbformat_minor": 5
}
