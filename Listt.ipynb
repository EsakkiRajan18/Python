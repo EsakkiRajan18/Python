{
 "cells": [
  {
   "cell_type": "code",
   "execution_count": 1,
   "id": "8954a213-24c0-4447-ad86-a8dfbe023721",
   "metadata": {},
   "outputs": [],
   "source": [
    "#List"
   ]
  },
  {
   "cell_type": "code",
   "execution_count": 2,
   "id": "6c767255-caca-45d1-8afb-d289b5dbd98f",
   "metadata": {},
   "outputs": [
    {
     "name": "stdin",
     "output_type": "stream",
     "text": [
      " 4\n",
      " 12\n",
      " 26\n",
      " 10\n",
      " 6\n"
     ]
    },
    {
     "name": "stdout",
     "output_type": "stream",
     "text": [
      "[12, 26, 10, 6]\n"
     ]
    }
   ],
   "source": [
    "size_of_list_1=int(input())\n",
    "list_1=[]\n",
    "for i in range(size_of_list_1):\n",
    "    list_1.append(int(input()))\n",
    "print(list_1)"
   ]
  },
  {
   "cell_type": "code",
   "execution_count": 3,
   "id": "e06eea2b-b4d3-48a3-bd85-fdc9145ee9a1",
   "metadata": {},
   "outputs": [
    {
     "name": "stdin",
     "output_type": "stream",
     "text": [
      " 4\n",
      " 12\n",
      " 26\n",
      " 10\n",
      " 6\n"
     ]
    },
    {
     "name": "stdout",
     "output_type": "stream",
     "text": [
      "[12, 26, 10, 6]\n"
     ]
    },
    {
     "name": "stdin",
     "output_type": "stream",
     "text": [
      " 4\n",
      " 65\n",
      " 32\n",
      " 77\n",
      " 88\n"
     ]
    },
    {
     "name": "stdout",
     "output_type": "stream",
     "text": [
      "[65, 32, 77, 88]\n"
     ]
    }
   ],
   "source": [
    "size_of_list_1=int(input())\n",
    "list_1=[]\n",
    "for i in range(size_of_list_1):\n",
    "    list_1.append(int(input()))\n",
    "print(list_1)\n",
    "\n",
    "size_of_list_2=int(input())\n",
    "list_2=[]\n",
    "for i in range(size_of_list_2):\n",
    "    list_2.append(int(input()))\n",
    "print(list_2)"
   ]
  },
  {
   "cell_type": "code",
   "execution_count": null,
   "id": "2fb749d8-ce06-49be-a26b-cd24ced61ef5",
   "metadata": {},
   "outputs": [],
   "source": [
    "#maximum num in list"
   ]
  },
  {
   "cell_type": "code",
   "execution_count": 5,
   "id": "6cc62dd1-b2e0-4a8a-8b31-0c7fc37670e0",
   "metadata": {},
   "outputs": [
    {
     "name": "stdin",
     "output_type": "stream",
     "text": [
      " 5\n",
      " 12 65 55 78 99\n"
     ]
    },
    {
     "name": "stdout",
     "output_type": "stream",
     "text": [
      "99\n"
     ]
    }
   ],
   "source": [
    "a=int(input())\n",
    "b=list(map(int,input().split()))\n",
    "print(max(b))"
   ]
  },
  {
   "cell_type": "code",
   "execution_count": 6,
   "id": "8a150fed-9a78-48c3-85a1-57dfb6014f2d",
   "metadata": {},
   "outputs": [],
   "source": [
    "#second largest number in the list"
   ]
  },
  {
   "cell_type": "code",
   "execution_count": 8,
   "id": "cb7b9fab-f806-455d-8915-914ecf58663d",
   "metadata": {},
   "outputs": [
    {
     "name": "stdin",
     "output_type": "stream",
     "text": [
      " 5\n",
      " 12 99 29 10 6\n"
     ]
    },
    {
     "name": "stdout",
     "output_type": "stream",
     "text": [
      "29\n"
     ]
    }
   ],
   "source": [
    "a=int(input())\n",
    "b=list(map(int,input().split()))\n",
    "b.sort()\n",
    "print(b[-2])"
   ]
  },
  {
   "cell_type": "code",
   "execution_count": 9,
   "id": "88c0c387-a780-4e74-a311-0e9d57be63c6",
   "metadata": {},
   "outputs": [],
   "source": [
    "#create a list of 1 - 10 and from the list create another list with only odd values"
   ]
  },
  {
   "cell_type": "code",
   "execution_count": 10,
   "id": "9a8ceab7-0425-4991-9c27-db09dabb0fb1",
   "metadata": {},
   "outputs": [
    {
     "name": "stdout",
     "output_type": "stream",
     "text": [
      "[1, 2, 3, 4, 5, 6, 7, 8, 9, 10]\n",
      "[1, 3, 5, 7, 9]\n"
     ]
    }
   ],
   "source": [
    "list1 = list(range(1,11))\n",
    "odd = list1[::2]\n",
    "print(list1)\n",
    "print(odd)"
   ]
  },
  {
   "cell_type": "code",
   "execution_count": 11,
   "id": "68a8bcd3-a159-47e2-92d7-2efb150979a2",
   "metadata": {},
   "outputs": [],
   "source": [
    "#lar even and lar odd num in the list"
   ]
  },
  {
   "cell_type": "code",
   "execution_count": 13,
   "id": "af0994b5-f11f-45bb-83a3-5afcde99501f",
   "metadata": {},
   "outputs": [
    {
     "name": "stdin",
     "output_type": "stream",
     "text": [
      " 5\n",
      " 12\n",
      " 99\n",
      " 55\n",
      " 48\n",
      " 66\n"
     ]
    },
    {
     "name": "stdout",
     "output_type": "stream",
     "text": [
      "Largest Even Number: 66\n",
      "Largest Odd Number: 99\n"
     ]
    }
   ],
   "source": [
    "n=int(input())\n",
    "b=[]\n",
    "for i in range (n):\n",
    "    a=int(input())\n",
    "    b.append(a)\n",
    "c=[]\n",
    "d=[]\n",
    "for i in b:\n",
    "    if(i%2==0):\n",
    "        c.append(i)\n",
    "    else:\n",
    "        d.append(i)\n",
    "c.sort()\n",
    "d.sort()\n",
    "print(\"Largest Even Number:\",c[-1])\n",
    "print(\"Largest Odd Number:\",d[-1])"
   ]
  },
  {
   "cell_type": "code",
   "execution_count": 14,
   "id": "97a24b14-3ed8-4b55-9bbf-23c43b026c71",
   "metadata": {},
   "outputs": [],
   "source": [
    "#union of list"
   ]
  },
  {
   "cell_type": "code",
   "execution_count": 16,
   "id": "ccdaa45f-6e8b-4f25-b897-f04a7afd3453",
   "metadata": {},
   "outputs": [
    {
     "ename": "SyntaxError",
     "evalue": "invalid syntax. Perhaps you forgot a comma? (1314453386.py, line 1)",
     "output_type": "error",
     "traceback": [
      "\u001b[1;36m  Cell \u001b[1;32mIn[16], line 1\u001b[1;36m\u001b[0m\n\u001b[1;33m    a = list(map(int,input().split())\u001b[0m\n\u001b[1;37m             ^\u001b[0m\n\u001b[1;31mSyntaxError\u001b[0m\u001b[1;31m:\u001b[0m invalid syntax. Perhaps you forgot a comma?\n"
     ]
    }
   ],
   "source": [
    "a = list(map(int,input().split())\n",
    "b = list(map(int,input().split())\n",
    "union = list(set().union(a,b))\n",
    "\n",
    "print('The union of the two list is:',union)"
   ]
  },
  {
   "cell_type": "code",
   "execution_count": null,
   "id": "b36c701b-8b55-477a-abd2-bfe7875c3c37",
   "metadata": {},
   "outputs": [],
   "source": [
    "#repeated elementb in list"
   ]
  },
  {
   "cell_type": "code",
   "execution_count": 1,
   "id": "ec56763c-248d-4273-9557-a8ca936b06fb",
   "metadata": {},
   "outputs": [
    {
     "name": "stdout",
     "output_type": "stream",
     "text": [
      "Number of repeated elements: 1\n",
      "Repeated elements and their counts: {3: 3}\n"
     ]
    }
   ],
   "source": [
    "numbers = [5,3,3,3,78,90]\n",
    "from collections import Counter\n",
    "element_counts = Counter(numbers)\n",
    "repeated_elements = {key: value for key, value in element_counts.items() if value > 1}\n",
    "print(f\"Number of repeated elements: {len(repeated_elements)}\")\n",
    "print(\"Repeated elements and their counts:\", repeated_elements)\n"
   ]
  },
  {
   "cell_type": "code",
   "execution_count": 2,
   "id": "b9763a60-9abd-46e8-9143-940f747b4ee3",
   "metadata": {},
   "outputs": [
    {
     "name": "stdout",
     "output_type": "stream",
     "text": [
      "Number of repeated elements: 1\n",
      "Repeated elements and their counts: {3: 2}\n"
     ]
    }
   ],
   "source": [
    "numbers =[3,1,2,3]\n",
    "from collections import Counter\n",
    "element_counts = Counter(numbers)\n",
    "repeated_elements = {key: value for key, value in element_counts.items() if value > 1}\n",
    "print(f\"Number of repeated elements: {len(repeated_elements)}\")\n",
    "print(\"Repeated elements and their counts:\", repeated_elements)\n"
   ]
  },
  {
   "cell_type": "code",
   "execution_count": null,
   "id": "4c392e88-7189-4b6e-ad32-91a7a9dc74da",
   "metadata": {},
   "outputs": [],
   "source": []
  }
 ],
 "metadata": {
  "kernelspec": {
   "display_name": "Python 3 (ipykernel)",
   "language": "python",
   "name": "python3"
  },
  "language_info": {
   "codemirror_mode": {
    "name": "ipython",
    "version": 3
   },
   "file_extension": ".py",
   "mimetype": "text/x-python",
   "name": "python",
   "nbconvert_exporter": "python",
   "pygments_lexer": "ipython3",
   "version": "3.12.4"
  }
 },
 "nbformat": 4,
 "nbformat_minor": 5
}
