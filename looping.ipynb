{
 "cells": [
  {
   "cell_type": "code",
   "execution_count": 8,
   "id": "1583a1b4-643d-4618-a6c8-de8f6d31abd6",
   "metadata": {},
   "outputs": [
    {
     "name": "stdin",
     "output_type": "stream",
     "text": [
      " 4\n",
      " 4.5\n"
     ]
    },
    {
     "name": "stdout",
     "output_type": "stream",
     "text": [
      "no of items is more\n",
      "7.5\n"
     ]
    }
   ],
   "source": [
    "items=int(input())\n",
    "time=float(input())\n",
    "if items == 1:\n",
    "        rtime = time\n",
    "elif items == 2:\n",
    "        rtime=time*1.5\n",
    "elif items ==3:\n",
    "        rtime=time*2\n",
    "else:\n",
    "      print(\"no of items is more\")\n",
    "\n",
    "print(rtime)"
   ]
  },
  {
   "cell_type": "code",
   "execution_count": 1,
   "id": "8e118b90-1a38-47a6-a4bf-230db9f92099",
   "metadata": {},
   "outputs": [],
   "source": [
    "#LOOPING\n",
    "syntax\n",
    "# for<variable> in <sequence> (fir and in are keyword)\n"
   ]
  },
  {
   "cell_type": "code",
   "execution_count": 2,
   "id": "f925dedb-f5d7-4065-a3e8-a7ff8e0871e2",
   "metadata": {},
   "outputs": [
    {
     "name": "stdout",
     "output_type": "stream",
     "text": [
      "1\n",
      "2\n",
      "3\n",
      "4\n",
      "5\n"
     ]
    }
   ],
   "source": [
    "for i in \"12345\":\n",
    "    print(i)\n"
   ]
  },
  {
   "cell_type": "code",
   "execution_count": 4,
   "id": "478ac8fd-94be-47d9-8a68-2ce355b6442e",
   "metadata": {},
   "outputs": [
    {
     "name": "stdout",
     "output_type": "stream",
     "text": [
      "1\n",
      "2\n",
      "3\n",
      "4\n",
      "5\n"
     ]
    }
   ],
   "source": [
    "for i in range(1,6):\n",
    "    print(i)"
   ]
  },
  {
   "cell_type": "code",
   "execution_count": 4,
   "id": "2f290565-edad-41d2-a510-d05cb373b634",
   "metadata": {},
   "outputs": [
    {
     "name": "stdout",
     "output_type": "stream",
     "text": [
      "1\n",
      "3\n",
      "5\n",
      "7\n",
      "9\n",
      "11\n",
      "13\n",
      "15\n",
      "17\n",
      "19\n",
      "21\n",
      "23\n",
      "25\n",
      "27\n",
      "29\n",
      "31\n",
      "33\n",
      "35\n",
      "37\n",
      "39\n",
      "41\n",
      "43\n",
      "45\n",
      "47\n",
      "49\n"
     ]
    }
   ],
   "source": [
    "for i in range(50):\n",
    "    if i%2!=0:\n",
    "        print(i)"
   ]
  },
  {
   "cell_type": "code",
   "execution_count": 6,
   "id": "c7fc8501-83fb-439b-aa30-24ba8e8ad4a5",
   "metadata": {},
   "outputs": [
    {
     "name": "stdout",
     "output_type": "stream",
     "text": [
      "35\n"
     ]
    }
   ],
   "source": [
    "X=\" peter piper picked a peck of pickled peppers.a peck of pickled peppers peter piper picked.if peter piper picked a peck of pickled peppers,where's the peck of pickled peppers peter piper picked?\"\n",
    "print(X.count('e'))"
   ]
  },
  {
   "cell_type": "code",
   "execution_count": null,
   "id": "70db715e-d5f0-49e3-ab2d-d9fbeaec77d0",
   "metadata": {},
   "outputs": [],
   "source": []
  }
 ],
 "metadata": {
  "kernelspec": {
   "display_name": "Python 3 (ipykernel)",
   "language": "python",
   "name": "python3"
  },
  "language_info": {
   "codemirror_mode": {
    "name": "ipython",
    "version": 3
   },
   "file_extension": ".py",
   "mimetype": "text/x-python",
   "name": "python",
   "nbconvert_exporter": "python",
   "pygments_lexer": "ipython3",
   "version": "3.12.4"
  }
 },
 "nbformat": 4,
 "nbformat_minor": 5
}
